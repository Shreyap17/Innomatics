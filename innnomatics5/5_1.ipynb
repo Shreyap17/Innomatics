{
  "nbformat": 4,
  "nbformat_minor": 0,
  "metadata": {
    "colab": {
      "name": "5.1",
      "provenance": []
    },
    "kernelspec": {
      "name": "python3",
      "display_name": "Python 3"
    },
    "language_info": {
      "name": "python"
    }
  },
  "cells": [
    {
      "cell_type": "code",
      "metadata": {
        "colab": {
          "base_uri": "https://localhost:8080/"
        },
        "id": "d44FsyMJtifp",
        "outputId": "a90b8b36-0bb6-4127-d17f-b7858bd0c1b3"
      },
      "source": [
        "import re\n",
        "\n",
        "if  __name__ == \"__main__\" :\n",
        "    v=int(input().strip())\n",
        "    pattern = '^[+-]?[0-9]*\\.[0-9]+$'\n",
        "    \n",
        "    for _ in range(v):\n",
        "        print(bool(re.match(pattern, input())))\n"
      ],
      "execution_count": 1,
      "outputs": [
        {
          "output_type": "stream",
          "text": [
            "4\n",
            "4.0O0\n",
            "False\n",
            "-1.00\n",
            "True\n",
            "+4.54\n",
            "True\n",
            "SomeRandomStuf\n",
            "False\n"
          ],
          "name": "stdout"
        }
      ]
    }
  ]
}