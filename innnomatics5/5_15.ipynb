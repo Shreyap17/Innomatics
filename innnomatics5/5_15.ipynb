{
  "nbformat": 4,
  "nbformat_minor": 0,
  "metadata": {
    "colab": {
      "name": "5.15",
      "provenance": []
    },
    "kernelspec": {
      "name": "python3",
      "display_name": "Python 3"
    },
    "language_info": {
      "name": "python"
    }
  },
  "cells": [
    {
      "cell_type": "code",
      "metadata": {
        "colab": {
          "base_uri": "https://localhost:8080/"
        },
        "id": "wVtg0J2E7e-6",
        "outputId": "6a7d65cd-95ff-4579-bcbf-3add4b4f8980"
      },
      "source": [
        "import re\n",
        "for i in range(int(input())):\n",
        "    S = input().strip()\n",
        "    pre_match = re.search(r'^[456]\\d{3}(-?)\\d{4}\\1\\d{4}\\1\\d{4}$',S)\n",
        "    if pre_match:\n",
        "        processed_string = \"\".join(pre_match.group(0).split('-'))\n",
        "        final_match = re.search(r'(\\d)\\1{3,}',processed_string)\n",
        "        if final_match:\n",
        "            print('Invalid')\n",
        "        else :\n",
        "            print('Valid')\n",
        "    else:\n",
        "        print('Invalid')\n"
      ],
      "execution_count": 21,
      "outputs": [
        {
          "output_type": "stream",
          "text": [
            "6\n",
            "4123456789123456\n",
            "Valid\n",
            "5123-4567-8912-3456\n",
            "Valid\n",
            "61234-567-8912-3456\n",
            "Invalid\n",
            "4123356789123456\n",
            "Valid\n",
            "5133-3367-8912-3456\n",
            "Invalid\n",
            "5123 - 3567 - 8912 - 3456\n",
            "Invalid\n"
          ],
          "name": "stdout"
        }
      ]
    }
  ]
}