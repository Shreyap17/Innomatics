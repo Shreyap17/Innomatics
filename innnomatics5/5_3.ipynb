{
  "nbformat": 4,
  "nbformat_minor": 0,
  "metadata": {
    "colab": {
      "name": "5.3",
      "provenance": []
    },
    "kernelspec": {
      "name": "python3",
      "display_name": "Python 3"
    },
    "language_info": {
      "name": "python"
    }
  },
  "cells": [
    {
      "cell_type": "code",
      "metadata": {
        "id": "iP7hDYheykRb",
        "colab": {
          "base_uri": "https://localhost:8080/"
        },
        "outputId": "f7712fcf-866b-48d1-fcc6-1af5f8703749"
      },
      "source": [
        "import re\n",
        "\n",
        "if __name__ == \"__main__\":\n",
        "    str1= input()\n",
        "    \n",
        "    match = re.search(r'([a-zA-Z0-9])\\1+', str1)\n",
        "    \n",
        "    print(match.group(1) if match else -1)\n"
      ],
      "execution_count": 4,
      "outputs": [
        {
          "output_type": "stream",
          "text": [
            "..12345678910111213141516171820212223\n",
            "1\n"
          ],
          "name": "stdout"
        }
      ]
    }
  ]
}