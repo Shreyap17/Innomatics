{
  "nbformat": 4,
  "nbformat_minor": 0,
  "metadata": {
    "colab": {
      "name": "5.12",
      "provenance": []
    },
    "kernelspec": {
      "name": "python3",
      "display_name": "Python 3"
    },
    "language_info": {
      "name": "python"
    }
  },
  "cells": [
    {
      "cell_type": "code",
      "metadata": {
        "colab": {
          "base_uri": "https://localhost:8080/"
        },
        "id": "ISCZVVbL44gG",
        "outputId": "14d60820-4daa-48c3-b41e-b006c20fb686"
      },
      "source": [
        "from html.parser import HTMLParser\n",
        "\n",
        "class MyHTMLParser(HTMLParser):\n",
        "  \n",
        " def handle_comment(self, data):\n",
        "        if data.count('\\n') > 0:\n",
        "            print(\">>> Multi-line Comment\")\n",
        "        else:\n",
        "            print(\">>> Single-line Comment\")\n",
        "        print(data)\n",
        " def handle_data(self, data):\n",
        "        if len(data) > 1:\n",
        "            print(\">>> Data\")\n",
        "            print(data)\n",
        "  \n",
        "  \n",
        "html = \"\"       \n",
        "for i in range(int(input())):\n",
        "    html += input().rstrip()\n",
        "    html += '\\n'\n",
        "    \n",
        "parser = MyHTMLParser()\n",
        "parser.feed(html)\n",
        "parser.close()\n"
      ],
      "execution_count": 18,
      "outputs": [
        {
          "output_type": "stream",
          "text": [
            "4\n",
            "<!--[if IE 9]>IE9-specific content\n",
            "<![endif]-->\n",
            "<div> Welcome to HackerRank</div>\n",
            "<!--[if IE 9]>IE9-specific content<![endif]-->\n",
            ">>> Multi-line Comment\n",
            "[if IE 9]>IE9-specific content\n",
            "<![endif]\n",
            ">>> Data\n",
            " Welcome to HackerRank\n",
            ">>> Single-line Comment\n",
            "[if IE 9]>IE9-specific content<![endif]\n"
          ],
          "name": "stdout"
        }
      ]
    }
  ]
}