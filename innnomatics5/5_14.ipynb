{
  "nbformat": 4,
  "nbformat_minor": 0,
  "metadata": {
    "colab": {
      "name": "5.14",
      "provenance": []
    },
    "kernelspec": {
      "name": "python3",
      "display_name": "Python 3"
    },
    "language_info": {
      "name": "python"
    }
  },
  "cells": [
    {
      "cell_type": "code",
      "metadata": {
        "colab": {
          "base_uri": "https://localhost:8080/"
        },
        "id": "_o3E4KMd7ErD",
        "outputId": "b1d1f62b-bf33-4da7-d705-4ec92a94daf8"
      },
      "source": [
        "import re\n",
        "\n",
        "if __name__ == \"__main__\":\n",
        "    t = int(input().strip())\n",
        "    \n",
        "    for _ in range(t):\n",
        "        uid = \"\".join(sorted(input()))\n",
        "        if (len(uid) == 10 and\n",
        "            re.match(r'', uid) and \n",
        "            re.search(r'[A-Z]{2}', uid) and\n",
        "            re.search(r'\\d\\d\\d', uid) and\n",
        "            not re.search(r'[^a-zA-Z0-9]', uid) and\n",
        "            not re.search(r'(.)\\1', uid)):\n",
        "            print(\"Valid\")\n",
        "        else:\n",
        "            print(\"Invalid\")\n",
        "                \n"
      ],
      "execution_count": 20,
      "outputs": [
        {
          "output_type": "stream",
          "text": [
            "2\n",
            "B1CD102354\n",
            "Invalid\n",
            "B1CDEF2354\n",
            "Valid\n"
          ],
          "name": "stdout"
        }
      ]
    }
  ]
}