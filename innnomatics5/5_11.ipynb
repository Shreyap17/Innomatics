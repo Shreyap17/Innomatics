{
  "nbformat": 4,
  "nbformat_minor": 0,
  "metadata": {
    "colab": {
      "name": "5.11",
      "provenance": []
    },
    "kernelspec": {
      "name": "python3",
      "display_name": "Python 3"
    },
    "language_info": {
      "name": "python"
    }
  },
  "cells": [
    {
      "cell_type": "code",
      "metadata": {
        "colab": {
          "base_uri": "https://localhost:8080/"
        },
        "id": "Lie8IKIs2yAj",
        "outputId": "f412a122-0a1e-45ac-f478-70bc7653127d"
      },
      "source": [
        "\n",
        "import re\n",
        "\n",
        "n = int(input().strip())\n",
        "inside = False\n",
        "for _ in range(n):\n",
        "    line = input()\n",
        "    \n",
        "    for el in line.split(' '):\n",
        "        if el == \"{\":\n",
        "            inside = True\n",
        "            continue\n",
        "        elif el == \"}\":\n",
        "            inside = False\n",
        "            continue\n",
        "        elif inside:\n",
        "            found = re.search(r'\\#[0-9a-fA-F]{3,6}', el)\n",
        "            if found:\n",
        "                print(found.group(0))\n"
      ],
      "execution_count": 15,
      "outputs": [
        {
          "output_type": "stream",
          "text": [
            "2\n",
            "<html><head><title>HTML Parser - I</title></head>\n",
            "<body data-modal-target class='1'><h1>HackerRank</h1><br /></body></html>\n"
          ],
          "name": "stdout"
        }
      ]
    }
  ]
}