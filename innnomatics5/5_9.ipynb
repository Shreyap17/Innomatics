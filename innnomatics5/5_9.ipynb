{
  "nbformat": 4,
  "nbformat_minor": 0,
  "metadata": {
    "colab": {
      "name": "5.9",
      "provenance": []
    },
    "kernelspec": {
      "name": "python3",
      "display_name": "Python 3"
    },
    "language_info": {
      "name": "python"
    }
  },
  "cells": [
    {
      "cell_type": "code",
      "metadata": {
        "colab": {
          "base_uri": "https://localhost:8080/"
        },
        "id": "9Yhdelo72R0k",
        "outputId": "1d67bd8b-aac3-43c5-b93d-e10cf7eae411"
      },
      "source": [
        "import re\n",
        "\n",
        "t = int(input().strip())\n",
        "for _ in range(t):\n",
        "    name, email = input().strip().split()\n",
        "    \n",
        "    if re.match(r'<[A-Za-z](\\w|-|\\.|_)+@[A-Za-z]+\\.[A-Za-z]{1,3}>', email):\n",
        "        print(\"{} {}\".format(name, email))"
      ],
      "execution_count": 10,
      "outputs": [
        {
          "output_type": "stream",
          "text": [
            "2\n",
            "DEXTER <dexter@hotmail.com>\n",
            "DEXTER <dexter@hotmail.com>\n",
            "VIRUS <virus!@variable.:p>\n"
          ],
          "name": "stdout"
        }
      ]
    }
  ]
}