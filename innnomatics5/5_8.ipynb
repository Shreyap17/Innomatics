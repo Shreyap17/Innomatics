{
  "nbformat": 4,
  "nbformat_minor": 0,
  "metadata": {
    "colab": {
      "name": "5.8",
      "provenance": []
    },
    "kernelspec": {
      "name": "python3",
      "display_name": "Python 3"
    },
    "language_info": {
      "name": "python"
    }
  },
  "cells": [
    {
      "cell_type": "code",
      "metadata": {
        "colab": {
          "base_uri": "https://localhost:8080/"
        },
        "id": "d07Rbxby1pkt",
        "outputId": "7459b4f5-fd0f-4c1b-8799-1f44e714057d"
      },
      "source": [
        "import re\n",
        "\n",
        "N = int(input())\n",
        "\n",
        "for i in range(N):\n",
        "    number = input()\n",
        "    if(len(number)==10 and number.isdigit()):\n",
        "        output = re.findall(r\"^[789]\\d{9}$\",number)\n",
        "        if(len(output)==1):\n",
        "            print(\"YES\")\n",
        "        else:\n",
        "            print(\"NO\")\n",
        "    else:\n",
        "        print(\"NO\")\n"
      ],
      "execution_count": 9,
      "outputs": [
        {
          "output_type": "stream",
          "text": [
            "2\n",
            "9587456281\n",
            "YES\n",
            "1252478965\n",
            "NO\n"
          ],
          "name": "stdout"
        }
      ]
    }
  ]
}