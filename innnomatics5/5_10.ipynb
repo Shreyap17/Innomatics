{
  "nbformat": 4,
  "nbformat_minor": 0,
  "metadata": {
    "colab": {
      "name": "5.10",
      "provenance": []
    },
    "kernelspec": {
      "name": "python3",
      "display_name": "Python 3"
    },
    "language_info": {
      "name": "python"
    }
  },
  "cells": [
    {
      "cell_type": "code",
      "metadata": {
        "colab": {
          "base_uri": "https://localhost:8080/"
        },
        "id": "Lie8IKIs2yAj",
        "outputId": "5133e9e8-cc30-461e-b755-c16af2b4d1ea"
      },
      "source": [
        "import re\n",
        "\n",
        "n = int(input().strip())\n",
        "inside = False\n",
        "for _ in range(n):\n",
        "    line = input()\n",
        "    \n",
        "    for el in line.split(' '):\n",
        "        if el == \"{\":\n",
        "            inside = True\n",
        "            continue\n",
        "        elif el == \"}\":\n",
        "            inside = False\n",
        "            continue\n",
        "        elif inside:\n",
        "            found = re.search(r'\\#[0-9a-fA-F]{3,6}', el)\n",
        "            if found:\n",
        "                print(found.group(0))\n"
      ],
      "execution_count": null,
      "outputs": [
        {
          "output_type": "stream",
          "text": [
            "11\n",
            "#BED\n",
            "{\n",
            "    color: #FfFdF8; background-color:#aef;\n",
            "#FfFdF8\n",
            "#aef\n",
            "    font-size: 123px;\n",
            "    background: -webkit-linear-gradient(top, #f9f9f9, #fff);\n",
            "#f9f9f9\n",
            "#fff\n",
            "}\n"
          ],
          "name": "stdout"
        }
      ]
    }
  ]
}