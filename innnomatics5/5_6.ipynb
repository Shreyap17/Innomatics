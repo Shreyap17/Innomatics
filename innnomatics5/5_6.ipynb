{
  "nbformat": 4,
  "nbformat_minor": 0,
  "metadata": {
    "colab": {
      "name": "5.6",
      "provenance": []
    },
    "kernelspec": {
      "name": "python3",
      "display_name": "Python 3"
    },
    "language_info": {
      "name": "python"
    }
  },
  "cells": [
    {
      "cell_type": "code",
      "metadata": {
        "colab": {
          "base_uri": "https://localhost:8080/"
        },
        "id": "-2pLkWj10hFk",
        "outputId": "669accf8-c4da-465d-afc4-9b94a696286f"
      },
      "source": [
        "import re\n",
        "\n",
        "def change(match):\n",
        "    symb = match.group(0)\n",
        "    \n",
        "    if symb == \"&&\":\n",
        "        return \"and\"\n",
        "    elif symb == \"||\":\n",
        "        return \"or\"\n",
        "    \n",
        "n = int(input().strip())\n",
        "for _ in range(n):\n",
        "    print(re.sub(r'(?<= )(&&|\\|\\|)(?= )', change, input()))\n"
      ],
      "execution_count": null,
      "outputs": [
        {
          "output_type": "stream",
          "text": [
            "11\n",
            "a = 1;\n",
            "a = 1;\n",
            "b = input();\n",
            "b = input();\n",
            "if a + b > 0 && a - b < 0:     start()\n",
            "if a + b > 0 and a - b < 0:     start()\n",
            "    start()\n",
            "    start()\n",
            "elif a*b > 10 || a/b < 1:     stop()\n",
            "elif a*b > 10 or a/b < 1:     stop()\n"
          ],
          "name": "stdout"
        }
      ]
    }
  ]
}