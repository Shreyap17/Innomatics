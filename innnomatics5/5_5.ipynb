{
  "nbformat": 4,
  "nbformat_minor": 0,
  "metadata": {
    "colab": {
      "name": "5.5",
      "provenance": []
    },
    "kernelspec": {
      "name": "python3",
      "display_name": "Python 3"
    },
    "language_info": {
      "name": "python"
    }
  },
  "cells": [
    {
      "cell_type": "code",
      "metadata": {
        "colab": {
          "base_uri": "https://localhost:8080/"
        },
        "id": "ZWzrzRqx0Hxl",
        "outputId": "3658e759-661f-4901-8981-721b7d920fdd"
      },
      "source": [
        "import re\n",
        "\n",
        "S, k = input(), input()\n",
        "matches = re.finditer(r'(?=(' + k + '))', S)\n",
        "\n",
        "any1 = False\n",
        "for match in matches:\n",
        "    any1 = True\n",
        "    print((match.start(1), match.end(1) - 1))\n",
        "\n",
        "if any1 == False:\n",
        "    print((-1, -1))\n"
      ],
      "execution_count": 6,
      "outputs": [
        {
          "output_type": "stream",
          "text": [
            "aaadaa\n",
            "aa\n",
            "(0, 1)\n",
            "(1, 2)\n",
            "(4, 5)\n"
          ],
          "name": "stdout"
        }
      ]
    }
  ]
}