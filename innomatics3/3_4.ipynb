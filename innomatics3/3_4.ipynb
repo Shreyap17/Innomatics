{
  "nbformat": 4,
  "nbformat_minor": 0,
  "metadata": {
    "colab": {
      "name": "3.4",
      "provenance": []
    },
    "kernelspec": {
      "name": "python3",
      "display_name": "Python 3"
    },
    "language_info": {
      "name": "python"
    }
  },
  "cells": [
    {
      "cell_type": "code",
      "metadata": {
        "colab": {
          "base_uri": "https://localhost:8080/"
        },
        "id": "7jwDOYCnE3OR",
        "outputId": "3d3a524d-548f-40e3-b0eb-e080562fc7c5"
      },
      "source": [
        "d = divmod(int(input()), int(input()))\n",
        "print(*d, d, sep='\\n')\n"
      ],
      "execution_count": 4,
      "outputs": [
        {
          "output_type": "stream",
          "text": [
            "177\n",
            "10\n",
            "17\n",
            "7\n",
            "(17, 7)\n"
          ],
          "name": "stdout"
        }
      ]
    }
  ]
}