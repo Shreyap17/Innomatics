{
  "nbformat": 4,
  "nbformat_minor": 0,
  "metadata": {
    "colab": {
      "name": "3.2",
      "provenance": []
    },
    "kernelspec": {
      "name": "python3",
      "display_name": "Python 3"
    },
    "language_info": {
      "name": "python"
    }
  },
  "cells": [
    {
      "cell_type": "code",
      "metadata": {
        "colab": {
          "base_uri": "https://localhost:8080/"
        },
        "id": "59U1e0nwD3mb",
        "outputId": "3da8e1e5-3371-4da9-ee32-2bf4434c48e2"
      },
      "source": [
        "import math\n",
        "AB=float(input())\n",
        "BC=float(input())\n",
        "H = math.sqrt(AB**2+BC**2)\n",
        "H=H/2.0\n",
        "Adj= BC/2.0\n",
        "Output = int(round(math.degrees(math.acos(Adj/H))))\n",
        "\n",
        "Output = str(Output)\n",
        "degree_sign = u\"\\N{DEGREE SIGN}\"\n",
        "print(Output+ degree_sign)\n"
      ],
      "execution_count": 2,
      "outputs": [
        {
          "output_type": "stream",
          "text": [
            "10\n",
            "10\n",
            "45°\n"
          ],
          "name": "stdout"
        }
      ]
    }
  ]
}