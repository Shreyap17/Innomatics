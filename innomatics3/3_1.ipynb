{
  "nbformat": 4,
  "nbformat_minor": 0,
  "metadata": {
    "colab": {
      "name": "3.1",
      "provenance": []
    },
    "kernelspec": {
      "name": "python3",
      "display_name": "Python 3"
    },
    "language_info": {
      "name": "python"
    }
  },
  "cells": [
    {
      "cell_type": "code",
      "metadata": {
        "colab": {
          "base_uri": "https://localhost:8080/"
        },
        "id": "cGKOwkSADeNG",
        "outputId": "48bf60c7-63bc-48c8-f8f8-ef297ffc77c9"
      },
      "source": [
        "import cmath\n",
        "\n",
        "r = complex(input().strip())\n",
        "\n",
        "print(cmath.polar(r)[0])\n",
        "print(cmath.polar(r)[1])"
      ],
      "execution_count": 1,
      "outputs": [
        {
          "output_type": "stream",
          "text": [
            "  1+2j\n",
            "2.23606797749979\n",
            "1.1071487177940904\n"
          ],
          "name": "stdout"
        }
      ]
    }
  ]
}