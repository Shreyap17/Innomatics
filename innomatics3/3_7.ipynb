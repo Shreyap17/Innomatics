{
  "nbformat": 4,
  "nbformat_minor": 0,
  "metadata": {
    "colab": {
      "name": "3.7",
      "provenance": []
    },
    "kernelspec": {
      "name": "python3",
      "display_name": "Python 3"
    },
    "language_info": {
      "name": "python"
    }
  },
  "cells": [
    {
      "cell_type": "code",
      "metadata": {
        "colab": {
          "base_uri": "https://localhost:8080/"
        },
        "id": "aQGXkCyQFpH5",
        "outputId": "59d87c0e-fb54-435f-86a0-71ee3219b7ef"
      },
      "source": [
        "for i in range(1,int(input())): \n",
        "    print(int(i * 10**i / 9))\n"
      ],
      "execution_count": 7,
      "outputs": [
        {
          "output_type": "stream",
          "text": [
            "5\n",
            "1\n",
            "22\n",
            "333\n",
            "4444\n"
          ],
          "name": "stdout"
        }
      ]
    }
  ]
}