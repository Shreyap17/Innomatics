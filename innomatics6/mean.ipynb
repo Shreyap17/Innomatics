{
  "nbformat": 4,
  "nbformat_minor": 0,
  "metadata": {
    "colab": {
      "name": "mean.ipynb",
      "provenance": []
    },
    "kernelspec": {
      "name": "python3",
      "display_name": "Python 3"
    },
    "language_info": {
      "name": "python"
    }
  },
  "cells": [
    {
      "cell_type": "code",
      "metadata": {
        "colab": {
          "base_uri": "https://localhost:8080/"
        },
        "id": "8i7CXkphCzpN",
        "outputId": "9c6736a4-9905-4df9-d511-937833001b28"
      },
      "source": [
        "import numpy\n",
        "\n",
        "N,M = map(int, input().split())\n",
        "l = []\n",
        "\n",
        "for i in range(N):\n",
        "    a = list(map(int, input().split()))\n",
        "    l.append(a)\n",
        "\n",
        "l = numpy.array(l)\n",
        "\n",
        "numpy.set_printoptions(legacy='1.13')\n",
        "print(numpy.mean(l, axis =1))\n",
        "print(numpy.var(l, axis =0))\n",
        "print(numpy.std(l))\n"
      ],
      "execution_count": 11,
      "outputs": [
        {
          "output_type": "stream",
          "text": [
            "2 2\n",
            "1 2\n",
            "3 4\n",
            "[ 1.5  3.5]\n",
            "[ 1.  1.]\n",
            "1.11803398875\n"
          ],
          "name": "stdout"
        }
      ]
    }
  ]
}