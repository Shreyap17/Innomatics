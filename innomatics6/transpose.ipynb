{
  "nbformat": 4,
  "nbformat_minor": 0,
  "metadata": {
    "colab": {
      "name": "transpose.ipynb",
      "provenance": []
    },
    "kernelspec": {
      "name": "python3",
      "display_name": "Python 3"
    },
    "language_info": {
      "name": "python"
    }
  },
  "cells": [
    {
      "cell_type": "code",
      "metadata": {
        "colab": {
          "base_uri": "https://localhost:8080/"
        },
        "id": "hcYY9paJc-oZ",
        "outputId": "229f6ac2-9a5f-4558-8627-ac1b9a469858"
      },
      "source": [
        "import numpy\n",
        "\n",
        "n, m = map(int, input().split())\n",
        "\n",
        "arr = numpy.array([input().strip().split() for _ in range(n)], int)\n",
        "print (arr.transpose())\n",
        "print (arr.flatten())\n",
        "\n"
      ],
      "execution_count": 2,
      "outputs": [
        {
          "output_type": "stream",
          "text": [
            "2 2\n",
            "1 2\n",
            "3 4\n",
            "[[1 3]\n",
            " [2 4]]\n",
            "[1 2 3 4]\n"
          ],
          "name": "stdout"
        }
      ]
    }
  ]
}