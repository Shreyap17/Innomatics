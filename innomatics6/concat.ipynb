{
  "nbformat": 4,
  "nbformat_minor": 0,
  "metadata": {
    "colab": {
      "name": "concat.ipynb",
      "provenance": []
    },
    "kernelspec": {
      "name": "python3",
      "display_name": "Python 3"
    },
    "language_info": {
      "name": "python"
    }
  },
  "cells": [
    {
      "cell_type": "code",
      "metadata": {
        "colab": {
          "base_uri": "https://localhost:8080/"
        },
        "id": "hURrkxoSdUc0",
        "outputId": "013b5f39-dae7-46c1-9aa9-2fd6cac1abca"
      },
      "source": [
        "import numpy\n",
        "\n",
        "n,m,p=map(int,input().split())\n",
        "\n",
        "\n",
        "arr1=numpy.array([input().split() for _ in range(n)],int)\n",
        "arr2=numpy.array([input().split() for _ in range(m)],int)\n",
        "\n",
        "print(numpy.concatenate((arr1,arr2),axis=0))"
      ],
      "execution_count": 3,
      "outputs": [
        {
          "output_type": "stream",
          "text": [
            "4 3 2\n",
            "1 2\n",
            "1 2\n",
            "1 2\n",
            "1 2\n",
            "3 4 \n",
            "3 4\n",
            "3 4\n",
            "[[1 2]\n",
            " [1 2]\n",
            " [1 2]\n",
            " [1 2]\n",
            " [3 4]\n",
            " [3 4]\n",
            " [3 4]]\n"
          ],
          "name": "stdout"
        }
      ]
    }
  ]
}