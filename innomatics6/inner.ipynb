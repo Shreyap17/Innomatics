{
  "nbformat": 4,
  "nbformat_minor": 0,
  "metadata": {
    "colab": {
      "name": "inner.ipynb",
      "provenance": []
    },
    "kernelspec": {
      "name": "python3",
      "display_name": "Python 3"
    },
    "language_info": {
      "name": "python"
    }
  },
  "cells": [
    {
      "cell_type": "code",
      "metadata": {
        "colab": {
          "base_uri": "https://localhost:8080/"
        },
        "id": "jEUNmK8WBiE8",
        "outputId": "c8e61ef2-68ac-40eb-f70e-2a47d785d879"
      },
      "source": [
        "import numpy as np\n",
        "\n",
        "arr1 = np.array(list(map(int, input().strip().split())))\n",
        "arr2 = np.array(list(map(int, input().strip().split())))\n",
        "\n",
        "print(np.inner(arr1, arr2))\n",
        "print(np.outer(arr1, arr2))\n",
        "\n",
        "\n",
        "\n"
      ],
      "execution_count": 8,
      "outputs": [
        {
          "output_type": "stream",
          "text": [
            "0 1\n",
            "2 3\n",
            "3\n",
            "[[0 0]\n",
            " [2 3]]\n"
          ],
          "name": "stdout"
        }
      ]
    }
  ]
}