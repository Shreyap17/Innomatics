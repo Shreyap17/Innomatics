{
  "nbformat": 4,
  "nbformat_minor": 0,
  "metadata": {
    "colab": {
      "name": "dotcross.ipynb",
      "provenance": []
    },
    "kernelspec": {
      "name": "python3",
      "display_name": "Python 3"
    },
    "language_info": {
      "name": "python"
    }
  },
  "cells": [
    {
      "cell_type": "code",
      "metadata": {
        "colab": {
          "base_uri": "https://localhost:8080/"
        },
        "id": "R_J_v_bJA4eR",
        "outputId": "d307b1a2-0dd3-4203-aa3c-a264a938d311"
      },
      "source": [
        "import numpy as np\n",
        "\n",
        "n = int(input().strip())\n",
        "arr1 = np.array([[int(x) for x in input().strip().split()] for _ in range(n)])\n",
        "arr2 = np.array([[int(x) for x in input().strip().split()] for _ in range(n)])\n",
        "\n",
        "print(np.dot(arr1, arr2))"
      ],
      "execution_count": 7,
      "outputs": [
        {
          "output_type": "stream",
          "text": [
            "2 \n",
            "1 2\n",
            "3 4\n",
            "1 2\n",
            "3 4\n",
            "[[ 7 10]\n",
            " [15 22]]\n"
          ],
          "name": "stdout"
        }
      ]
    }
  ]
}