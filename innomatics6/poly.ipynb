{
  "nbformat": 4,
  "nbformat_minor": 0,
  "metadata": {
    "colab": {
      "name": "poly.ipynb",
      "provenance": []
    },
    "kernelspec": {
      "name": "python3",
      "display_name": "Python 3"
    },
    "language_info": {
      "name": "python"
    }
  },
  "cells": [
    {
      "cell_type": "code",
      "metadata": {
        "colab": {
          "base_uri": "https://localhost:8080/"
        },
        "id": "NHrgK2D7CEOK",
        "outputId": "f74cce37-3fd1-43f5-82c4-f3f2e36b0991"
      },
      "source": [
        "import numpy\n",
        "\n",
        "poly = [float(x) for x in input().split()]\n",
        "x = float(input())\n",
        "\n",
        "print(numpy.polyval(poly, x))"
      ],
      "execution_count": 9,
      "outputs": [
        {
          "output_type": "stream",
          "text": [
            "1.1 2 3\n",
            "0\n",
            "3.0\n"
          ],
          "name": "stdout"
        }
      ]
    }
  ]
}