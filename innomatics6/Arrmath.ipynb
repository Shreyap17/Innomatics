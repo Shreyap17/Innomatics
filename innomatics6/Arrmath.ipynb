{
  "nbformat": 4,
  "nbformat_minor": 0,
  "metadata": {
    "colab": {
      "name": "Arrmath.ipynb",
      "provenance": []
    },
    "kernelspec": {
      "name": "python3",
      "display_name": "Python 3"
    },
    "language_info": {
      "name": "python"
    }
  },
  "cells": [
    {
      "cell_type": "code",
      "metadata": {
        "colab": {
          "base_uri": "https://localhost:8080/"
        },
        "id": "XAHt7UdTDjt-",
        "outputId": "7e9c121a-8834-45e0-d2cd-874378a8a8c0"
      },
      "source": [
        "import numpy\n",
        "\n",
        "N, M = map(int, input().split())\n",
        "\n",
        "arr1 = numpy.array([list(map(int, input().split())) for n in range(N)])\n",
        "arr2 = numpy.array([list(map(int, input().split())) for n in range(N)])\n",
        "\n",
        "print(arr1 + arr2)\n",
        "print(arr1 - arr2)\n",
        "print(arr1 * arr2)\n",
        "print(arr1 // arr2)\n",
        "print(arr1 % arr2)\n",
        "print(arr1 ** arr2)\n",
        "\n"
      ],
      "execution_count": 1,
      "outputs": [
        {
          "output_type": "stream",
          "text": [
            "1 4\n",
            "1 2 3 4\n",
            "5 6 7 8\n",
            "[[ 6  8 10 12]]\n",
            "[[-4 -4 -4 -4]]\n",
            "[[ 5 12 21 32]]\n",
            "[[0 0 0 0]]\n",
            "[[1 2 3 4]]\n",
            "[[    1    64  2187 65536]]\n"
          ],
          "name": "stdout"
        }
      ]
    }
  ]
}