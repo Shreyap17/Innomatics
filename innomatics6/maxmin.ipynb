{
  "nbformat": 4,
  "nbformat_minor": 0,
  "metadata": {
    "colab": {
      "name": "maxmin.ipynb",
      "provenance": []
    },
    "kernelspec": {
      "name": "python3",
      "display_name": "Python 3"
    },
    "language_info": {
      "name": "python"
    }
  },
  "cells": [
    {
      "cell_type": "code",
      "metadata": {
        "colab": {
          "base_uri": "https://localhost:8080/"
        },
        "id": "ogoJK-7bAkVZ",
        "outputId": "30faf744-5954-4299-f3e1-2e1c0e0a3da0"
      },
      "source": [
        "import numpy\n",
        "\n",
        "N, M = map(int, input().split())\n",
        "arr1 = numpy.array([input().split() for _ in range(N)],int)\n",
        "print(numpy.max(numpy.min(arr1, axis=1), axis=0))"
      ],
      "execution_count": 5,
      "outputs": [
        {
          "output_type": "stream",
          "text": [
            "4 2\n",
            "2 5\n",
            "3 7\n",
            "1 3\n",
            "4 0\n",
            "3\n"
          ],
          "name": "stdout"
        }
      ]
    }
  ]
}