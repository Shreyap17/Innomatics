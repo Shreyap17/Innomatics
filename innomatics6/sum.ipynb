{
  "nbformat": 4,
  "nbformat_minor": 0,
  "metadata": {
    "colab": {
      "name": "sum.ipynb",
      "provenance": []
    },
    "kernelspec": {
      "name": "python3",
      "display_name": "Python 3"
    },
    "language_info": {
      "name": "python"
    }
  },
  "cells": [
    {
      "cell_type": "code",
      "metadata": {
        "colab": {
          "base_uri": "https://localhost:8080/"
        },
        "id": "mQz6mDB_EVFY",
        "outputId": "3a0b1b67-c44f-47a6-d3dc-eb6df31ba575"
      },
      "source": [
        "import numpy\n",
        "\n",
        "N, M = map(int, input().split())\n",
        "A = numpy.array([input().split() for _ in range(N)],int)\n",
        "print(numpy.prod(numpy.sum(A, axis=0), axis=0))"
      ],
      "execution_count": 3,
      "outputs": [
        {
          "output_type": "stream",
          "text": [
            "2 2\n",
            "1 2\n",
            "3 4\n",
            "24\n"
          ],
          "name": "stdout"
        }
      ]
    }
  ]
}