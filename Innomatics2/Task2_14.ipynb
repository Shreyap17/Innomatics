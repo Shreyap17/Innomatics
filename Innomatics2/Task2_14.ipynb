{
  "nbformat": 4,
  "nbformat_minor": 0,
  "metadata": {
    "colab": {
      "name": "Task2.14",
      "provenance": []
    },
    "kernelspec": {
      "name": "python3",
      "display_name": "Python 3"
    },
    "language_info": {
      "name": "python"
    }
  },
  "cells": [
    {
      "cell_type": "code",
      "metadata": {
        "id": "BNHvX4OOfns2",
        "colab": {
          "base_uri": "https://localhost:8080/"
        },
        "outputId": "2d0a6af9-5020-42d1-8b3b-db62788a8e6f"
      },
      "source": [
        "N1 = int(input())\n",
        "storage1 = set(input().split())\n",
        "\n",
        "N2 = int(input())\n",
        "storage2 = set(input().split())\n",
        "\n",
        "storage3 = storage1.difference(storage2)\n",
        "\n",
        "print(len(storage3))\n"
      ],
      "execution_count": 5,
      "outputs": [
        {
          "output_type": "stream",
          "text": [
            "9\n",
            "1 2 3 4 5 6 7 8 9\n",
            "9\n",
            "10 1 2 3 11 21 55 6 8\n",
            "4\n"
          ],
          "name": "stdout"
        }
      ]
    }
  ]
}