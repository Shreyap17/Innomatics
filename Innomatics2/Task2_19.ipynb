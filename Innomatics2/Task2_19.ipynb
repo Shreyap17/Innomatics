{
  "nbformat": 4,
  "nbformat_minor": 0,
  "metadata": {
    "colab": {
      "name": "Task2.19",
      "provenance": []
    },
    "kernelspec": {
      "name": "python3",
      "display_name": "Python 3"
    },
    "language_info": {
      "name": "python"
    }
  },
  "cells": [
    {
      "cell_type": "code",
      "metadata": {
        "colab": {
          "base_uri": "https://localhost:8080/"
        },
        "id": "HzoBC4d3iTsH",
        "outputId": "0a4b3148-bcfd-472e-8745-305447288336"
      },
      "source": [
        "storage = set(input().split())\n",
        "N = int(input())\n",
        "output = True\n",
        "\n",
        "for i in range(N):\n",
        "    storage2 = set(input().split())\n",
        "    if not storage2.issubset(storage):\n",
        "        output = False\n",
        "    if len(storage2) >= len(storage):\n",
        "        output = False\n",
        "\n",
        "print(output)\n"
      ],
      "execution_count": 10,
      "outputs": [
        {
          "output_type": "stream",
          "text": [
            "1 2 3 4 5 6 7 8 9 10 11 12 23 45 84 78\n",
            "2\n",
            "1 2 3 4 5\n",
            "100  11 12\n",
            "False\n"
          ],
          "name": "stdout"
        }
      ]
    }
  ]
}