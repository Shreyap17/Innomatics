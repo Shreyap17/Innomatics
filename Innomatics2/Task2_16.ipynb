{
  "nbformat": 4,
  "nbformat_minor": 0,
  "metadata": {
    "colab": {
      "name": "Task2.16",
      "provenance": []
    },
    "kernelspec": {
      "name": "python3",
      "display_name": "Python 3"
    },
    "language_info": {
      "name": "python"
    }
  },
  "cells": [
    {
      "cell_type": "code",
      "metadata": {
        "colab": {
          "base_uri": "https://localhost:8080/"
        },
        "id": "XiOZ05XZgftu",
        "outputId": "654d1873-b06b-4947-a814-56e4ba5021b8"
      },
      "source": [
        "\n",
        "len_set = int(input())\n",
        "\n",
        "storage = set(map(int, input().split()))\n",
        "\n",
        "op_len = int(input())\n",
        "\n",
        "for i in range(op_len):\n",
        "    operation = input().split()\n",
        "    if operation[0] == 'intersection_update':\n",
        "        temp_storage = set(map(int, input().split()))\n",
        "        storage.intersection_update(temp_storage)\n",
        "    elif operation[0] == 'update':\n",
        "        temp_storage = set(map(int, input().split()))\n",
        "        storage.update(temp_storage)\n",
        "    elif operation[0] == 'symmetric_difference_update':\n",
        "        temp_storage = set(map(int, input().split()))\n",
        "        storage.symmetric_difference_update(temp_storage)\n",
        "    elif operation[0] == 'difference_update':\n",
        "        temp_storage = set(map(int, input().split()))\n",
        "        storage.difference_update(temp_storage)\n",
        "    else :\n",
        "        assert False\n",
        "\n",
        "print(sum(storage))\n"
      ],
      "execution_count": 7,
      "outputs": [
        {
          "output_type": "stream",
          "text": [
            "16\n",
            "1 2 3 4 5 6 7 8 9 10 11 12 13 14 24 52\n",
            "4\n",
            " intersection_update 10\n",
            " 2 3 5 6 8 9 1 4 7 11\n",
            " update 2\n",
            "55 66\n",
            " symmetric_difference_update 5\n",
            " 22 7 35 62 58\n",
            " difference_update 7\n",
            " 11 22 35 55 58 62 66\n",
            "38\n"
          ],
          "name": "stdout"
        }
      ]
    }
  ]
}