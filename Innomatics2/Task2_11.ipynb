{
  "nbformat": 4,
  "nbformat_minor": 0,
  "metadata": {
    "colab": {
      "name": "Task2.11",
      "provenance": []
    },
    "kernelspec": {
      "name": "python3",
      "display_name": "Python 3"
    },
    "language_info": {
      "name": "python"
    }
  },
  "cells": [
    {
      "cell_type": "code",
      "metadata": {
        "colab": {
          "base_uri": "https://localhost:8080/"
        },
        "id": "XU41iRZYdZz8",
        "outputId": "d0c7140d-a570-461c-e96b-5a514ca99a5f"
      },
      "source": [
        "n = int(input())\n",
        "s = set(map(int, input().split()))\n",
        "num = int(input())\n",
        "for i in range(num):\n",
        "    ip = input().split()\n",
        "    if ip[0]==\"remove\":\n",
        "        s.remove(int(ip[1]))\n",
        "    elif ip[0]==\"discard\":\n",
        "        s.discard(int(ip[1]))\n",
        "    else :\n",
        "        s.pop()\n",
        "print(sum(list(s)))\n"
      ],
      "execution_count": 1,
      "outputs": [
        {
          "output_type": "stream",
          "text": [
            "9\n",
            "1 2 3 4 5 6 7 8 9\n",
            "10\n",
            "pop\n",
            "remove 9\n",
            "discard 9\n",
            "discard 8\n",
            "remove 7\n",
            "pop \n",
            "discard 6\n",
            "remove 5\n",
            "pop \n",
            "discard 5\n",
            "4\n"
          ],
          "name": "stdout"
        }
      ]
    }
  ]
}