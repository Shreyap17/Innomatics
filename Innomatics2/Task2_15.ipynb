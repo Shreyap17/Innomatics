{
  "nbformat": 4,
  "nbformat_minor": 0,
  "metadata": {
    "colab": {
      "name": "Task2.15",
      "provenance": []
    },
    "kernelspec": {
      "name": "python3",
      "display_name": "Python 3"
    },
    "language_info": {
      "name": "python"
    }
  },
  "cells": [
    {
      "cell_type": "code",
      "metadata": {
        "colab": {
          "base_uri": "https://localhost:8080/"
        },
        "id": "_fbmMbaqgO24",
        "outputId": "349aa37b-3a19-4f47-abff-925b68b3b218"
      },
      "source": [
        "N1 = int(input())\n",
        "storage1 = set(input().split())\n",
        "\n",
        "N2 = int(input())\n",
        "storage2 = set(input().split())\n",
        "\n",
        "storage3 = storage1.symmetric_difference(storage2)\n",
        "\n",
        "print(len(storage3))\n"
      ],
      "execution_count": 6,
      "outputs": [
        {
          "output_type": "stream",
          "text": [
            "9\n",
            "1 2 3 4 5 6 7 8 9\n",
            "9\n",
            "10 1 2 3 11 21 55 6 8\n",
            "8\n"
          ],
          "name": "stdout"
        }
      ]
    }
  ]
}