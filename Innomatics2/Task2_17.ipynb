{
  "nbformat": 4,
  "nbformat_minor": 0,
  "metadata": {
    "colab": {
      "name": "Task2.17",
      "provenance": []
    },
    "kernelspec": {
      "name": "python3",
      "display_name": "Python 3"
    },
    "language_info": {
      "name": "python"
    }
  },
  "cells": [
    {
      "cell_type": "code",
      "metadata": {
        "colab": {
          "base_uri": "https://localhost:8080/"
        },
        "id": "AbBNeRshhId3",
        "outputId": "5ef50e89-baca-4db3-9e5f-f5302a7bc28f"
      },
      "source": [
        "N = int(input())\n",
        "\n",
        "storage = map(int, input().split())\n",
        "storage = sorted(storage)\n",
        "\n",
        "for i in range(len(storage)):\n",
        "    if(i != len(storage)-1):\n",
        "        if(storage[i]!=storage[i-1] and storage[i]!=storage[i+1]):\n",
        "            print(storage[i])\n",
        "            break;\n",
        "    else:\n",
        "        print(storage[i])\n"
      ],
      "execution_count": 8,
      "outputs": [
        {
          "output_type": "stream",
          "text": [
            "5\n",
            "1 2 3 6 5 4 4 2 5 3 6 1 6 5 3 2 4 1 2 5 1 4 3 6 8 4 3 1 5 6 2\n",
            "8\n"
          ],
          "name": "stdout"
        }
      ]
    }
  ]
}