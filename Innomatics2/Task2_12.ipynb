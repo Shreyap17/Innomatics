{
  "nbformat": 4,
  "nbformat_minor": 0,
  "metadata": {
    "colab": {
      "name": "Task2.12",
      "provenance": []
    },
    "kernelspec": {
      "name": "python3",
      "display_name": "Python 3"
    },
    "language_info": {
      "name": "python"
    }
  },
  "cells": [
    {
      "cell_type": "code",
      "metadata": {
        "colab": {
          "base_uri": "https://localhost:8080/"
        },
        "id": "CAUkusxWeM-f",
        "outputId": "14aa62a0-1ee5-4a4b-8936-95bd6f09609e"
      },
      "source": [
        "\n",
        "N1 = int(input())\n",
        "storage1 = set(input().split());\n",
        "\n",
        "N2 = int(input())\n",
        "storage2 = set(input().split());\n",
        "\n",
        "storage3 = storage1.union(storage2)\n",
        "\n",
        "print(len(storage3))\n"
      ],
      "execution_count": 2,
      "outputs": [
        {
          "output_type": "stream",
          "text": [
            "9\n",
            "1 2 3 4 5 6 7 8 9\n",
            "9\n",
            "10 1 2 3 11 21 55 6 8\n",
            "13\n"
          ],
          "name": "stdout"
        }
      ]
    }
  ]
}