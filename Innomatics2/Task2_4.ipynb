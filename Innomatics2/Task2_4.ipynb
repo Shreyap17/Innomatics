{
  "nbformat": 4,
  "nbformat_minor": 0,
  "metadata": {
    "colab": {
      "name": "Task2.4",
      "provenance": []
    },
    "kernelspec": {
      "name": "python3",
      "display_name": "Python 3"
    },
    "language_info": {
      "name": "python"
    }
  },
  "cells": [
    {
      "cell_type": "code",
      "metadata": {
        "colab": {
          "base_uri": "https://localhost:8080/"
        },
        "id": "1RzhinbBVrK2",
        "outputId": "51bbf180-fe25-42d8-e80f-d660ba455fbf"
      },
      "source": [
        "if __name__ == '__main__':\n",
        "    n = int(input())\n",
        "    student_marks = {}\n",
        "    for _ in range(n):\n",
        "        name, *line = input().split()\n",
        "        scores = list(map(float, line))\n",
        "        student_marks[name] = scores\n",
        "    query_name = input()\n",
        "    output = list(student_marks[query_name])\n",
        "    percent = sum(output)/len(output)\n",
        "    print(\"%.2f\" % percent)\n"
      ],
      "execution_count": 1,
      "outputs": [
        {
          "output_type": "stream",
          "text": [
            "2\n",
            "Harsh 25 26.5 28\n",
            "Anurag 26 28 30\n",
            "Harsh\n",
            "26.50\n"
          ],
          "name": "stdout"
        }
      ]
    }
  ]
}