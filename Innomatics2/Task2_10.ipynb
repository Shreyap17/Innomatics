{
  "nbformat": 4,
  "nbformat_minor": 0,
  "metadata": {
    "colab": {
      "name": "Task2.10",
      "provenance": []
    },
    "kernelspec": {
      "name": "python3",
      "display_name": "Python 3"
    },
    "language_info": {
      "name": "python"
    }
  },
  "cells": [
    {
      "cell_type": "code",
      "metadata": {
        "colab": {
          "base_uri": "https://localhost:8080/"
        },
        "id": "AA9AGLN8Zqsk",
        "outputId": "80940828-557b-476d-985a-3a30bcdfc2a2"
      },
      "source": [
        "\n",
        "N = int(input())\n",
        "\n",
        "countries = set()\n",
        "\n",
        "for i in range(N):\n",
        "    countries.add(input())\n",
        "\n",
        "print(len(countries))\n"
      ],
      "execution_count": 8,
      "outputs": [
        {
          "output_type": "stream",
          "text": [
            "7\n",
            "UK\n",
            "China\n",
            "USA\n",
            "France\n",
            "New Zealand\n",
            "UK\n",
            "France\n",
            "5\n"
          ],
          "name": "stdout"
        }
      ]
    }
  ]
}