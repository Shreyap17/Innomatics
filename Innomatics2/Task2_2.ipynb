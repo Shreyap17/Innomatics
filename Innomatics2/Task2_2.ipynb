{
  "nbformat": 4,
  "nbformat_minor": 0,
  "metadata": {
    "colab": {
      "name": "Task2.2",
      "provenance": []
    },
    "kernelspec": {
      "name": "python3",
      "display_name": "Python 3"
    },
    "language_info": {
      "name": "python"
    }
  },
  "cells": [
    {
      "cell_type": "code",
      "metadata": {
        "colab": {
          "base_uri": "https://localhost:8080/"
        },
        "id": "sXlFOh_-OvXq",
        "outputId": "2d879701-ca25-480d-d55d-7202d69c4c7f"
      },
      "source": [
        "if __name__ == '__main__':\n",
        "    n = int(input())\n",
        "    arr = map(int, input().split())\n",
        "    arr1 = list(arr)\n",
        "    arr1 = [x for x in arr1 if x != max(arr1)]\n",
        "\n",
        "    print(max(arr1))\n"
      ],
      "execution_count": 4,
      "outputs": [
        {
          "output_type": "stream",
          "text": [
            "5\n",
            "2 3 6 6 5\n",
            "5\n"
          ],
          "name": "stdout"
        }
      ]
    }
  ]
}