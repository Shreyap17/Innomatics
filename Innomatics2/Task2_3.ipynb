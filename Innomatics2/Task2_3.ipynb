{
  "nbformat": 4,
  "nbformat_minor": 0,
  "metadata": {
    "colab": {
      "name": "Task2.3",
      "provenance": []
    },
    "kernelspec": {
      "name": "python3",
      "display_name": "Python 3"
    },
    "language_info": {
      "name": "python"
    }
  },
  "cells": [
    {
      "cell_type": "code",
      "metadata": {
        "colab": {
          "base_uri": "https://localhost:8080/"
        },
        "id": "YfT4rR0APipP",
        "outputId": "9bae10ee-dd43-446b-bad0-02004617eb7c"
      },
      "source": [
        "if __name__ == '__main__':\n",
        "    list1=[]\n",
        "    for _ in range(int(input())):\n",
        "        name = input()\n",
        "        score = float(input())\n",
        "        list1.append([score,name])\n",
        "        \n",
        "    list2=sorted(list1)\n",
        "    temp=list2[0][0]\n",
        "    \n",
        "    for i in range(len(list2)):\n",
        "        if list2[i][0]>temp:\n",
        "            seclast=list2[i][0]\n",
        "            break\n",
        "   \n",
        "    for i in range(len(list2)):\n",
        "        if list2[i][0]==seclast:\n",
        "            print(list2[i][1])\n",
        "    \n",
        "        \n"
      ],
      "execution_count": 1,
      "outputs": [
        {
          "output_type": "stream",
          "text": [
            "5\n",
            "harry\n",
            "37.21\n",
            "Berry\n",
            "37.21\n",
            "Tina\n",
            "37.2\n",
            "Akriti\n",
            "41\n",
            "Harsh\n",
            "39\n",
            "Berry\n",
            "harry\n"
          ],
          "name": "stdout"
        }
      ]
    }
  ]
}