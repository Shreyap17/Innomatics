{
  "nbformat": 4,
  "nbformat_minor": 0,
  "metadata": {
    "colab": {
      "name": "Task2.8",
      "provenance": []
    },
    "kernelspec": {
      "name": "python3",
      "display_name": "Python 3"
    },
    "language_info": {
      "name": "python"
    }
  },
  "cells": [
    {
      "cell_type": "code",
      "metadata": {
        "colab": {
          "base_uri": "https://localhost:8080/"
        },
        "id": "gtLpnQjZYi3s",
        "outputId": "e60cf3d1-3f46-469c-8179-b9388d2b34b6"
      },
      "source": [
        "\n",
        "io = input().split()\n",
        "m = int(io[0])\n",
        "n = int(io[1])\n",
        "\n",
        "storage = list()\n",
        "count = 0\n",
        "\n",
        "storage = list(map(int, input().strip().split()))\n",
        "\n",
        "A = set(map(int, input().strip().split()))\n",
        "B = set(map(int, input().strip().split()))\n",
        "\n",
        "for i in storage:\n",
        "    if i in A:\n",
        "        count = count+1\n",
        "    if i in B:\n",
        "        count = count-1\n",
        "\n",
        "print(count)\n"
      ],
      "execution_count": 5,
      "outputs": [
        {
          "output_type": "stream",
          "text": [
            "3 2\n",
            "1 5 3\n",
            "3 1\n",
            "5 7\n",
            "1\n"
          ],
          "name": "stdout"
        }
      ]
    }
  ]
}