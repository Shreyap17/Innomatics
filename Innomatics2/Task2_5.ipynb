{
  "nbformat": 4,
  "nbformat_minor": 0,
  "metadata": {
    "colab": {
      "name": "Task2.5",
      "provenance": []
    },
    "kernelspec": {
      "name": "python3",
      "display_name": "Python 3"
    },
    "language_info": {
      "name": "python"
    }
  },
  "cells": [
    {
      "cell_type": "code",
      "metadata": {
        "colab": {
          "base_uri": "https://localhost:8080/"
        },
        "id": "6UBwbsuIWQKM",
        "outputId": "5c1bbb3c-1044-4395-a0d9-f50a7e14a0e1"
      },
      "source": [
        "if __name__ == '__main__':\n",
        "    N = int(input())\n",
        "    result = []\n",
        "    for n in range(N):\n",
        "        x = input().split(\" \")\n",
        "        command = x[0]\n",
        "        if command == 'append':\n",
        "            result.append(int(x[1]))\n",
        "        if command == 'print':\n",
        "            print(result)\n",
        "        if command == 'insert':\n",
        "            result.insert(int(x[1]), int(x[2]))\n",
        "        if command == 'reverse':\n",
        "            result = result[::-1]\n",
        "        if command == 'pop':\n",
        "            result.pop()\n",
        "        if command == 'sort':\n",
        "            result = sorted(result)\n",
        "        if command == 'remove':\n",
        "            result.remove(int(x[1]))\n",
        "        \n",
        "    \n"
      ],
      "execution_count": 2,
      "outputs": [
        {
          "output_type": "stream",
          "text": [
            "12\n",
            "insert 0 5\n",
            "insert 1 10\n",
            "insert 0 6\n",
            "print\n",
            "[6, 5, 10]\n",
            "remove 6\n",
            "append 9\n",
            "append 1\n",
            "sort\n",
            "print\n",
            "[1, 5, 9, 10]\n",
            "pop\n",
            "reverse\n",
            "print\n",
            "[9, 5, 1]\n"
          ],
          "name": "stdout"
        }
      ]
    }
  ]
}