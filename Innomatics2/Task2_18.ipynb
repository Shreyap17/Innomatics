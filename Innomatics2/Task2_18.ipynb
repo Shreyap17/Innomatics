{
  "nbformat": 4,
  "nbformat_minor": 0,
  "metadata": {
    "colab": {
      "name": "Task2.18",
      "provenance": []
    },
    "kernelspec": {
      "name": "python3",
      "display_name": "Python 3"
    },
    "language_info": {
      "name": "python"
    }
  },
  "cells": [
    {
      "cell_type": "code",
      "metadata": {
        "colab": {
          "base_uri": "https://localhost:8080/"
        },
        "id": "4yI6W2UchhaX",
        "outputId": "79925731-9f90-4a72-b202-58dbe5d72825"
      },
      "source": [
        "T = int(input())\n",
        "\n",
        "for _ in range(T):\n",
        "    a = input()\n",
        "    A = set(input().split())\n",
        "    b = int(input())\n",
        "    B = set(input().split())\n",
        "    print(A.issubset(B))"
      ],
      "execution_count": 9,
      "outputs": [
        {
          "output_type": "stream",
          "text": [
            "3\n",
            "5\n",
            "1 2 3 5 6\n",
            "9\n",
            "9 8 5 6 3 2 1 4 7\n",
            "True\n",
            "1\n",
            "2\n",
            "5\n",
            "3 6 5 4 1\n",
            "False\n",
            "7\n",
            "1 2 3 5 6 8 9\n",
            "3\n",
            "9 8 2\n",
            "False\n"
          ],
          "name": "stdout"
        }
      ]
    }
  ]
}