{
  "nbformat": 4,
  "nbformat_minor": 0,
  "metadata": {
    "colab": {
      "name": "Task2.9",
      "provenance": []
    },
    "kernelspec": {
      "name": "python3",
      "display_name": "Python 3"
    },
    "language_info": {
      "name": "python"
    }
  },
  "cells": [
    {
      "cell_type": "code",
      "metadata": {
        "colab": {
          "base_uri": "https://localhost:8080/"
        },
        "id": "RQJQ_FzcZTxk",
        "outputId": "06ab1b86-c529-4f8c-b843-9f178e007577"
      },
      "source": [
        "\n",
        "M = int(input())\n",
        "myset = set(map(int, input().split()))\n",
        "N = int(input())\n",
        "nset = set(map(int, input().split()))\n",
        "\n",
        "mydef = myset.difference(nset)\n",
        "ndef = nset.difference(myset)\n",
        "\n",
        "output = mydef.union(ndef)\n",
        "\n",
        "for i in sorted(list(output)):\n",
        "    print(i)\n"
      ],
      "execution_count": 6,
      "outputs": [
        {
          "output_type": "stream",
          "text": [
            "4\n",
            "2 4 5 9\n",
            "4\n",
            "2 4 11 12\n",
            "5\n",
            "9\n",
            "11\n",
            "12\n"
          ],
          "name": "stdout"
        }
      ]
    }
  ]
}