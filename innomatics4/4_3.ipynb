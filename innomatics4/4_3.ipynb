{
  "nbformat": 4,
  "nbformat_minor": 0,
  "metadata": {
    "colab": {
      "name": "4.3",
      "provenance": []
    },
    "kernelspec": {
      "name": "python3",
      "display_name": "Python 3"
    },
    "language_info": {
      "name": "python"
    }
  },
  "cells": [
    {
      "cell_type": "code",
      "metadata": {
        "colab": {
          "base_uri": "https://localhost:8080/"
        },
        "id": "Jn-txpx4ISkA",
        "outputId": "05e8e284-4377-4144-ee11-42cf6aadef91"
      },
      "source": [
        "def print_full_name(first, last):\n",
        "    # Write your code here\n",
        "    str1=\"\"\n",
        "    if(len(first)<=10):\n",
        "        if(len(last)<=10):\n",
        "            str1=\"Hello \"+(first+\" \"+last)+\"!\"+\" You just delved into python.\"\n",
        "    print(str1)\n",
        "\n",
        "if __name__ == '__main__':\n",
        "    first_name = input()\n",
        "    last_name = input()\n",
        "    print_full_name(first_name, last_name)\n"
      ],
      "execution_count": 15,
      "outputs": [
        {
          "output_type": "stream",
          "text": [
            "Ross\n",
            "Taylor\n",
            "Hello Ross Taylor! You just delved into python.\n"
          ],
          "name": "stdout"
        }
      ]
    }
  ]
}