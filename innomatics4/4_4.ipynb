{
  "nbformat": 4,
  "nbformat_minor": 0,
  "metadata": {
    "colab": {
      "name": "4.4",
      "provenance": []
    },
    "kernelspec": {
      "name": "python3",
      "display_name": "Python 3"
    },
    "language_info": {
      "name": "python"
    }
  },
  "cells": [
    {
      "cell_type": "code",
      "metadata": {
        "colab": {
          "base_uri": "https://localhost:8080/"
        },
        "id": "AsqOrjBkIuUx",
        "outputId": "08bf8780-aa2e-4cb6-b938-43432b62752d"
      },
      "source": [
        "def mutate_string(string, position, character):\n",
        "    string=string[:position]+character+string[position+1:]\n",
        "    return string\n",
        "\n",
        "if __name__ == '__main__':\n",
        "    s = input()\n",
        "    i, c = input().split()\n",
        "    s_new = mutate_string(s, int(i), c)\n",
        "    print(s_new)"
      ],
      "execution_count": 16,
      "outputs": [
        {
          "output_type": "stream",
          "text": [
            "abracadabra     \n",
            "5 k \n",
            "abrackdabra     \n"
          ],
          "name": "stdout"
        }
      ]
    }
  ]
}