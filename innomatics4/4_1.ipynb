{
  "nbformat": 4,
  "nbformat_minor": 0,
  "metadata": {
    "colab": {
      "name": "4.1",
      "provenance": []
    },
    "kernelspec": {
      "name": "python3",
      "display_name": "Python 3"
    },
    "language_info": {
      "name": "python"
    }
  },
  "cells": [
    {
      "cell_type": "code",
      "metadata": {
        "id": "DPfQ1QZqHgMC",
        "colab": {
          "base_uri": "https://localhost:8080/"
        },
        "outputId": "a49f4d9e-b20d-4130-a07d-1c23528c3f4c"
      },
      "source": [
        "def swap_case(s):\n",
        "    str1=''\n",
        "    for ch in s:\n",
        "        if(ch.isupper()):\n",
        "            str1+=ch.lower()\n",
        "        else:\n",
        "            if(ch.islower()):\n",
        "                str1+=ch.upper()\n",
        "            else:\n",
        "                str1+=ch\n",
        "    return str1\n",
        "\n",
        "if __name__ == '__main__':\n",
        "    s = input()\n",
        "    result = swap_case(s)\n",
        "    print(result)\n"
      ],
      "execution_count": 10,
      "outputs": [
        {
          "output_type": "stream",
          "text": [
            "HackerRank.com presents \"Pythonist 2\".\n",
            "hACKERrANK.COM PRESENTS \"pYTHONIST 2\".\n"
          ],
          "name": "stdout"
        }
      ]
    }
  ]
}