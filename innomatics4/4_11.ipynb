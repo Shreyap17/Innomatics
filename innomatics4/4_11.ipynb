{
  "nbformat": 4,
  "nbformat_minor": 0,
  "metadata": {
    "colab": {
      "name": "4.11",
      "provenance": []
    },
    "kernelspec": {
      "name": "python3",
      "display_name": "Python 3"
    },
    "language_info": {
      "name": "python"
    }
  },
  "cells": [
    {
      "cell_type": "code",
      "metadata": {
        "id": "e2wFe3-KKegJ",
        "outputId": "60b6f8f6-9a1c-4e17-aacf-626c6638be4b",
        "colab": {
          "base_uri": "https://localhost:8080/"
        }
      },
      "source": [
        "def print_rangoli(size):\n",
        "    \n",
        "    import string\n",
        "    alpha = string.ascii_lowercase\n",
        "    \n",
        "    pattern  = []\n",
        "    for i in range(size):\n",
        "        s = \"-\".join(alpha[i:size])\n",
        "        pattern.append((s[::-1]+s[1:]).center(4*size-3, \"-\"))\n",
        "        \n",
        "    print('\\n'.join(pattern[:0:-1]+pattern))\n",
        "\n",
        "if __name__ == '__main__':\n",
        "    n = int(input())\n",
        "    print_rangoli(n)"
      ],
      "execution_count": 24,
      "outputs": [
        {
          "output_type": "stream",
          "text": [
            "5\n",
            "--------e--------\n",
            "------e-d-e------\n",
            "----e-d-c-d-e----\n",
            "--e-d-c-b-c-d-e--\n",
            "e-d-c-b-a-b-c-d-e\n",
            "--e-d-c-b-c-d-e--\n",
            "----e-d-c-d-e----\n",
            "------e-d-e------\n",
            "--------e--------\n"
          ],
          "name": "stdout"
        }
      ]
    }
  ]
}