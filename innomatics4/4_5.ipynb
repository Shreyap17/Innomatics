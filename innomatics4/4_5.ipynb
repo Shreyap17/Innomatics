{
  "nbformat": 4,
  "nbformat_minor": 0,
  "metadata": {
    "colab": {
      "name": "4.5",
      "provenance": []
    },
    "kernelspec": {
      "name": "python3",
      "display_name": "Python 3"
    },
    "language_info": {
      "name": "python"
    }
  },
  "cells": [
    {
      "cell_type": "code",
      "metadata": {
        "colab": {
          "base_uri": "https://localhost:8080/"
        },
        "id": "o2WU_9y0JAvQ",
        "outputId": "ce642770-3ef8-4aa8-c928-a62b28b54c49"
      },
      "source": [
        "def count_substring(string, sub_string):\n",
        "    cnt=0\n",
        "    for i in range(len(string)):\n",
        "        if(string[i:i+len(sub_string)] == sub_string):\n",
        "            cnt+=1\n",
        "    return cnt\n",
        "\n",
        "if __name__ == '__main__':\n",
        "    string = input().strip()\n",
        "    sub_string = input().strip()\n",
        "    \n",
        "    count = count_substring(string, sub_string)\n",
        "    print(count)"
      ],
      "execution_count": 18,
      "outputs": [
        {
          "output_type": "stream",
          "text": [
            "ABCDCDC\n",
            "CDC\n",
            "2\n"
          ],
          "name": "stdout"
        }
      ]
    }
  ]
}