{
  "nbformat": 4,
  "nbformat_minor": 0,
  "metadata": {
    "colab": {
      "name": "4.10",
      "provenance": []
    },
    "kernelspec": {
      "name": "python3",
      "display_name": "Python 3"
    },
    "language_info": {
      "name": "python"
    }
  },
  "cells": [
    {
      "cell_type": "code",
      "metadata": {
        "colab": {
          "base_uri": "https://localhost:8080/"
        },
        "id": "jgB0a_CpKQlp",
        "outputId": "bd9d1942-b8c2-47ee-c7b3-e471252dd4dc"
      },
      "source": [
        "def print_formatted(number):\n",
        "    # your code goes here\n",
        "    width=len(bin(number)[2:])\n",
        "    for i in range(1,number+1):\n",
        "        dec=str(i)\n",
        "        octa=oct(i)[2:]\n",
        "        hexad=hex(i)[2:].upper()\n",
        "        binary=bin(i)[2:]\n",
        "        print(dec.rjust(width),octa.rjust(width),hexad.rjust(width),binary.rjust(width))\n",
        "\n",
        "if __name__ == '__main__':\n",
        "    n = int(input())\n",
        "    print_formatted(n)"
      ],
      "execution_count": 23,
      "outputs": [
        {
          "output_type": "stream",
          "text": [
            "17\n",
            "    1     1     1     1\n",
            "    2     2     2    10\n",
            "    3     3     3    11\n",
            "    4     4     4   100\n",
            "    5     5     5   101\n",
            "    6     6     6   110\n",
            "    7     7     7   111\n",
            "    8    10     8  1000\n",
            "    9    11     9  1001\n",
            "   10    12     A  1010\n",
            "   11    13     B  1011\n",
            "   12    14     C  1100\n",
            "   13    15     D  1101\n",
            "   14    16     E  1110\n",
            "   15    17     F  1111\n",
            "   16    20    10 10000\n",
            "   17    21    11 10001\n"
          ],
          "name": "stdout"
        }
      ]
    }
  ]
}