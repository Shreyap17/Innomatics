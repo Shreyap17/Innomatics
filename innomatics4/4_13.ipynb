{
  "nbformat": 4,
  "nbformat_minor": 0,
  "metadata": {
    "colab": {
      "name": "4.13",
      "provenance": []
    },
    "kernelspec": {
      "name": "python3",
      "display_name": "Python 3"
    },
    "language_info": {
      "name": "python"
    }
  },
  "cells": [
    {
      "cell_type": "code",
      "metadata": {
        "colab": {
          "base_uri": "https://localhost:8080/"
        },
        "id": "i9CjMlnmO7lx",
        "outputId": "2b77095a-367c-4765-ca9d-95f52c8daf95"
      },
      "source": [
        "def minion_game(string):\n",
        "    # your code goes here\n",
        "    length=len(string)\n",
        "    p1=0\n",
        "    p2=0\n",
        "    for i in range(length):\n",
        "        if string[i] in \"AEIOU\":\n",
        "            p1 +=length-i\n",
        "        else:\n",
        "            p2 += length-i\n",
        "            \n",
        "    if p1>p2:\n",
        "        print(\"Kevin\",p1)\n",
        "    elif p1<p2:\n",
        "        print(\"Stuart\",p2)\n",
        "    elif p1==p2:\n",
        "         print(\"Draw\")\n",
        "\n",
        "if __name__ == '__main__':\n",
        "    s = input()\n",
        "    minion_game(s)"
      ],
      "execution_count": 2,
      "outputs": [
        {
          "output_type": "stream",
          "text": [
            "BANANA\n",
            "Stuart 12\n"
          ],
          "name": "stdout"
        }
      ]
    }
  ]
}