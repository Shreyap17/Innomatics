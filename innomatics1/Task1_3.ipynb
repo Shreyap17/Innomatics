{
  "nbformat": 4,
  "nbformat_minor": 0,
  "metadata": {
    "colab": {
      "name": "Task1.3",
      "provenance": []
    },
    "kernelspec": {
      "name": "python3",
      "display_name": "Python 3"
    },
    "language_info": {
      "name": "python"
    }
  },
  "cells": [
    {
      "cell_type": "code",
      "metadata": {
        "colab": {
          "base_uri": "https://localhost:8080/"
        },
        "id": "aBZI4mwyLVPA",
        "outputId": "f9edf1f7-b884-43ed-e744-c90de4c17447"
      },
      "source": [
        "if __name__ == '__main__':\n",
        "    a = int(input())\n",
        "    b = int(input())\n",
        "    print(a+b)\n",
        "    print(a-b)\n",
        "    print(a*b)\n"
      ],
      "execution_count": 5,
      "outputs": [
        {
          "output_type": "stream",
          "text": [
            "1\n",
            "2\n",
            "3\n",
            "-1\n",
            "2\n"
          ],
          "name": "stdout"
        }
      ]
    }
  ]
}