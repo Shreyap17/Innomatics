{
  "nbformat": 4,
  "nbformat_minor": 0,
  "metadata": {
    "colab": {
      "name": "Task1.2",
      "provenance": []
    },
    "kernelspec": {
      "name": "python3",
      "display_name": "Python 3"
    },
    "language_info": {
      "name": "python"
    }
  },
  "cells": [
    {
      "cell_type": "code",
      "metadata": {
        "colab": {
          "base_uri": "https://localhost:8080/"
        },
        "id": "Ebq3guL9KfHo",
        "outputId": "055d352d-f473-424a-cc31-f79d41b5814d"
      },
      "source": [
        "#!/bin/python3\n",
        "\n",
        "import math\n",
        "import os\n",
        "import random\n",
        "import re\n",
        "import sys\n",
        "\n",
        "\n",
        "\n",
        "if __name__ == '__main__':\n",
        "    n = int(input().strip())\n",
        "    if(n%2!=0):\n",
        "        print(\"Weird\")\n",
        "    else:\n",
        "        if(n%2==0 and n in range(2,5)):\n",
        "            print(\"Not Weird\")\n",
        "        else:\n",
        "            if(n%2==0 and n in range(6,21)):\n",
        "                print(\"Weird\")\n",
        "            else:\n",
        "                if(n%2==0 and n>20):\n",
        "                    print(\"Not Weird\")\n"
      ],
      "execution_count": 4,
      "outputs": [
        {
          "output_type": "stream",
          "text": [
            "2\n",
            "Not Weird\n"
          ],
          "name": "stdout"
        }
      ]
    }
  ]
}