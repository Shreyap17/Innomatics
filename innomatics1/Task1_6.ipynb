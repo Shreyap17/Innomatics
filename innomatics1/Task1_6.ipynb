{
  "nbformat": 4,
  "nbformat_minor": 0,
  "metadata": {
    "colab": {
      "name": "Task1.6",
      "provenance": []
    },
    "kernelspec": {
      "name": "python3",
      "display_name": "Python 3"
    },
    "language_info": {
      "name": "python"
    }
  },
  "cells": [
    {
      "cell_type": "code",
      "metadata": {
        "colab": {
          "base_uri": "https://localhost:8080/"
        },
        "id": "xdVwRl1yMZ5o",
        "outputId": "0e8ed8bb-a34b-45da-9b5a-331f665d4cad"
      },
      "source": [
        "def is_leap(year):\n",
        "    leap = False\n",
        "    if(year%4==0):\n",
        "        if(year%100==0):\n",
        "            if(year%400==0):\n",
        "                return \"True\"\n",
        "            else:\n",
        "                return leap\n",
        "        else:\n",
        "             return \"True\"\n",
        "    else:\n",
        "         return leap      \n",
        "    \n",
        "    return leap\n",
        "\n",
        "year = int(input())\n",
        "print(is_leap(year))"
      ],
      "execution_count": 13,
      "outputs": [
        {
          "output_type": "stream",
          "text": [
            "2000\n",
            "True\n"
          ],
          "name": "stdout"
        }
      ]
    }
  ]
}