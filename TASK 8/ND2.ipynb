{
  "nbformat": 4,
  "nbformat_minor": 0,
  "metadata": {
    "colab": {
      "name": "ND2.ipynb",
      "provenance": []
    },
    "kernelspec": {
      "name": "python3",
      "display_name": "Python 3"
    },
    "language_info": {
      "name": "python"
    }
  },
  "cells": [
    {
      "cell_type": "code",
      "metadata": {
        "colab": {
          "base_uri": "https://localhost:8080/"
        },
        "id": "yHib56ZSxJx6",
        "outputId": "68647afb-deca-4b8c-e3b8-15f813a5ce0f"
      },
      "source": [
        "import math\n",
        "\n",
        "\n",
        "def cdf(x, mean, std):\n",
        "    return 1/2*(1+math.erf((x-mean) / std / 2**(1/2)))\n",
        "\n",
        "\n",
        "mean = 70\n",
        "std = 10\n",
        "\n",
        "print(round((1 - cdf(80, mean, std))*100, 2))\n",
        "\n",
        "print(round((1 - cdf(60, mean, std))*100, 2))\n",
        "\n",
        "print(round(cdf(60, mean, std)*100, 2))\n"
      ],
      "execution_count": 4,
      "outputs": [
        {
          "output_type": "stream",
          "text": [
            "15.87\n",
            "84.13\n",
            "15.87\n"
          ],
          "name": "stdout"
        }
      ]
    }
  ]
}