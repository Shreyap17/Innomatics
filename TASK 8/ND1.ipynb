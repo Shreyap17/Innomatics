{
  "nbformat": 4,
  "nbformat_minor": 0,
  "metadata": {
    "colab": {
      "name": "ND1.ipynb",
      "provenance": []
    },
    "kernelspec": {
      "name": "python3",
      "display_name": "Python 3"
    },
    "language_info": {
      "name": "python"
    }
  },
  "cells": [
    {
      "cell_type": "code",
      "metadata": {
        "colab": {
          "base_uri": "https://localhost:8080/"
        },
        "id": "T_XzT0wYw27h",
        "outputId": "a46e161e-ef80-4b71-d711-f4262be74bba"
      },
      "source": [
        "import math\n",
        "\n",
        "\n",
        "def cdf(x, mean, std):\n",
        "    return 1/2*(1+math.erf((x-mean) / std / 2**(1/2)))\n",
        "\n",
        "\n",
        "mean = 20\n",
        "std = 2\n",
        "\n",
        "print(round(cdf(19.5, mean, std), 3))\n",
        "\n",
        "print(round(cdf(22, mean, std) - cdf(20, mean, std), 3))\n"
      ],
      "execution_count": 3,
      "outputs": [
        {
          "output_type": "stream",
          "text": [
            "0.401\n",
            "0.341\n"
          ],
          "name": "stdout"
        }
      ]
    }
  ]
}