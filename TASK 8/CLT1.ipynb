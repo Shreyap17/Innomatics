{
  "nbformat": 4,
  "nbformat_minor": 0,
  "metadata": {
    "colab": {
      "name": "CLT1.ipynb",
      "provenance": []
    },
    "kernelspec": {
      "name": "python3",
      "display_name": "Python 3"
    },
    "language_info": {
      "name": "python"
    }
  },
  "cells": [
    {
      "cell_type": "code",
      "metadata": {
        "colab": {
          "base_uri": "https://localhost:8080/"
        },
        "id": "5ILP16LVxjrM",
        "outputId": "22389595-7ed8-460c-d2a1-754967f8fad1"
      },
      "source": [
        "import math\n",
        "\n",
        "x = int(input())\n",
        "n = int(input())\n",
        "mu = int(input())\n",
        "sigma = int(input())\n",
        "\n",
        "mu_sum = n * mu \n",
        "sigma_sum = math.sqrt(n) * sigma\n",
        "\n",
        "def cdf(x, mu, sigma):\n",
        "    Z = (x - mu)/sigma\n",
        "    return 0.5*(1 + math.erf(Z/(math.sqrt(2))))\n",
        "\n",
        "print(round(cdf(x, mu_sum, sigma_sum), 4))\n"
      ],
      "execution_count": 8,
      "outputs": [
        {
          "output_type": "stream",
          "text": [
            "9800\n",
            "49\n",
            "205\n",
            "15\n",
            "0.0098\n"
          ],
          "name": "stdout"
        }
      ]
    }
  ]
}