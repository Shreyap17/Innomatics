{
  "nbformat": 4,
  "nbformat_minor": 0,
  "metadata": {
    "colab": {
      "name": "CLT3.ipynb",
      "provenance": []
    },
    "kernelspec": {
      "name": "python3",
      "display_name": "Python 3"
    },
    "language_info": {
      "name": "python"
    }
  },
  "cells": [
    {
      "cell_type": "code",
      "metadata": {
        "colab": {
          "base_uri": "https://localhost:8080/"
        },
        "id": "VlFCZlys24oY",
        "outputId": "e33b2781-3da4-4edc-8be6-a11bfd572faf"
      },
      "source": [
        "\n",
        "mean = 500\n",
        "std = 80\n",
        "n = 100\n",
        "z = 1.96\n",
        "\n",
        "\n",
        "mean = mean\n",
        "std = std / n**(1/2)\n",
        "\n",
        "\n",
        "print(round(mean - std * z, 2))\n",
        "print(round(mean + std * z, 2))\n"
      ],
      "execution_count": 11,
      "outputs": [
        {
          "output_type": "stream",
          "text": [
            "484.32\n",
            "515.68\n"
          ],
          "name": "stdout"
        }
      ]
    }
  ]
}