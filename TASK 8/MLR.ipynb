{
  "nbformat": 4,
  "nbformat_minor": 0,
  "metadata": {
    "colab": {
      "name": "MLR.ipynb",
      "provenance": []
    },
    "kernelspec": {
      "name": "python3",
      "display_name": "Python 3"
    },
    "language_info": {
      "name": "python"
    }
  },
  "cells": [
    {
      "cell_type": "code",
      "metadata": {
        "colab": {
          "base_uri": "https://localhost:8080/"
        },
        "id": "S8il31QG794T",
        "outputId": "9984686e-8d86-4de3-8e42-9d2b6cba14c3"
      },
      "source": [
        "\n",
        "line1=list(map(int,input().split()))\n",
        "m=line1[0]\n",
        "n=line1[1]\n",
        "X=[]\n",
        "Y=[]\n",
        "for i in range(n):\n",
        "    line=list(map(float,input().split()))\n",
        "    X.append(line[:m])\n",
        "    Y.append(line[m])\n",
        " \n",
        "from sklearn import linear_model\n",
        "lm = linear_model.LinearRegression()\n",
        "lm.fit(X, Y)\n",
        " \n",
        "a = lm.intercept_\n",
        "b = lm.coef_\n",
        "#print a, b[0], b[1]\n",
        "import numpy as np\n",
        " \n",
        "n1=int(input())\n",
        " \n",
        " \n",
        "for j in range(n1):\n",
        "    line=list(map(float,input().split()))\n",
        "    y=a+np.dot(line,b) \n",
        "    print(round(y,2))\n"
      ],
      "execution_count": 15,
      "outputs": [
        {
          "output_type": "stream",
          "text": [
            "2 7\n",
            "0.18 0.89 109.85\n",
            "1.0 0.26 155.72\n",
            "0.92 0.11 137.66\n",
            "0.07 0.37 76.17\n",
            "0.85 0.16 139.75\n",
            "0.99 0.41 162.6\n",
            "0.87 0.47 151.77\n",
            "4\n",
            "0.49 0.18\n",
            "105.21\n",
            "0.57 0.83\n",
            "142.67\n",
            "0.56 0.64\n",
            "132.94\n",
            "0.76 0.18\n",
            "129.7\n"
          ],
          "name": "stdout"
        }
      ]
    }
  ]
}