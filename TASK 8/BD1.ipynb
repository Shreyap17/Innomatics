{
  "nbformat": 4,
  "nbformat_minor": 0,
  "metadata": {
    "colab": {
      "name": "BD1.ipynb",
      "provenance": []
    },
    "kernelspec": {
      "name": "python3",
      "display_name": "Python 3"
    },
    "language_info": {
      "name": "python"
    }
  },
  "cells": [
    {
      "cell_type": "code",
      "metadata": {
        "colab": {
          "base_uri": "https://localhost:8080/"
        },
        "id": "5MGpafACvTnq",
        "outputId": "6ba5a64f-d26d-4cdc-8ab2-6e32836be255"
      },
      "source": [
        "\n",
        "import math\n",
        "\n",
        "\n",
        "var = 1.09/(1+1.09)\n",
        "ans = 0\n",
        "for i in range(3):\n",
        "    ans += math.factorial(6) / math.factorial(i) / math.factorial(6-i) * var**i * (1-var)**(6-i)\n",
        "    \n",
        "print(round(1-ans, 3))\n"
      ],
      "execution_count": 1,
      "outputs": [
        {
          "output_type": "stream",
          "text": [
            "0.696\n"
          ],
          "name": "stdout"
        }
      ]
    }
  ]
}