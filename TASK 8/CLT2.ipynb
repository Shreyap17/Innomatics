{
  "nbformat": 4,
  "nbformat_minor": 0,
  "metadata": {
    "colab": {
      "name": "CLT2.ipynb",
      "provenance": []
    },
    "kernelspec": {
      "name": "python3",
      "display_name": "Python 3"
    },
    "language_info": {
      "name": "python"
    }
  },
  "cells": [
    {
      "cell_type": "code",
      "metadata": {
        "colab": {
          "base_uri": "https://localhost:8080/"
        },
        "id": "4gKXQsU5yEaE",
        "outputId": "4e5db615-1b10-4525-d0b1-24cfbc73733b"
      },
      "source": [
        "import math\n",
        "\n",
        "\n",
        "def cdf(x, mean, std):\n",
        "    return 1/2*(1+math.erf((x-mean) / std / 2**(1/2)))\n",
        "\n",
        "# inputs\n",
        "mean = 2.4\n",
        "std = 2\n",
        "n = 100\n",
        "result = 250\n",
        "\n",
        "# characteristics of sum\n",
        "mean1 = n * mean\n",
        "std1 = std * n**(1/2)\n",
        "\n",
        "# Find the probability that sum <= 250\n",
        "print(round(cdf(result, mean1, std1), 4))\n"
      ],
      "execution_count": 9,
      "outputs": [
        {
          "output_type": "stream",
          "text": [
            "0.6915\n"
          ],
          "name": "stdout"
        }
      ]
    }
  ]
}