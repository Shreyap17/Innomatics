{
  "nbformat": 4,
  "nbformat_minor": 0,
  "metadata": {
    "colab": {
      "name": "Pearson.ipynb",
      "provenance": []
    },
    "kernelspec": {
      "name": "python3",
      "display_name": "Python 3"
    },
    "language_info": {
      "name": "python"
    }
  },
  "cells": [
    {
      "cell_type": "code",
      "metadata": {
        "colab": {
          "base_uri": "https://localhost:8080/"
        },
        "id": "seNJnkDV3JW0",
        "outputId": "8e0a8584-951e-48db-af4b-84f2a282e58b"
      },
      "source": [
        "\n",
        "N = int(input())\n",
        "X = list(map(float,input().strip().split()))\n",
        "Y = list(map(float,input().strip().split()))\n",
        "\n",
        "x = sum(X) / N\n",
        "y = sum(Y) / N\n",
        "\n",
        "stdx = (sum([(i - x)**2 for i in X]) / N)**0.5\n",
        "stdy = (sum([(i - y)**2 for i in Y]) / N)**0.5\n",
        "\n",
        "\n",
        "covariance = sum([(X[i] - x) * (Y[i] -y) for i in range(N)])\n",
        "\n",
        "correlation_coefficient = covariance / (N * stdx * stdy)\n",
        "\n",
        "print(round(correlation_coefficient,3))\n"
      ],
      "execution_count": 12,
      "outputs": [
        {
          "output_type": "stream",
          "text": [
            "10\n",
            "10 9.8 8 7.8 7.7 7 6 5 4 2 \n",
            "200 44 32 24 22 17 15 12 8 4\n",
            "0.612\n"
          ],
          "name": "stdout"
        }
      ]
    }
  ]
}