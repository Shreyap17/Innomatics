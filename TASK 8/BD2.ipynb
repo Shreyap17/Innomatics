{
  "nbformat": 4,
  "nbformat_minor": 0,
  "metadata": {
    "colab": {
      "name": "BD2.ipynb",
      "provenance": []
    },
    "kernelspec": {
      "name": "python3",
      "display_name": "Python 3"
    },
    "language_info": {
      "name": "python"
    }
  },
  "cells": [
    {
      "cell_type": "code",
      "metadata": {
        "colab": {
          "base_uri": "https://localhost:8080/"
        },
        "id": "pnP6bHk-wjPw",
        "outputId": "8458fc1f-e7a6-4863-eaf5-bdfe390de22e"
      },
      "source": [
        "\n",
        "import math\n",
        "\n",
        "\n",
        "var = 0.12\n",
        "ans1 = 0\n",
        "for i in range(0, 3):\n",
        "    ans1 += math.factorial(10)/math.factorial(i)/math.factorial(10-i) * var**i * (1-var)**(10-i)\n",
        "    if i == 1:\n",
        "        ans2 = 1 - ans1\n",
        "\n",
        "print(round(ans1, 3))\n",
        "print(round(ans2, 3))\n"
      ],
      "execution_count": 2,
      "outputs": [
        {
          "output_type": "stream",
          "text": [
            "0.891\n",
            "0.342\n"
          ],
          "name": "stdout"
        }
      ]
    }
  ]
}