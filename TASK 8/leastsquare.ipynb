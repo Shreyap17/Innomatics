{
  "nbformat": 4,
  "nbformat_minor": 0,
  "metadata": {
    "colab": {
      "name": "leastsquare.ipynb",
      "provenance": []
    },
    "kernelspec": {
      "name": "python3",
      "display_name": "Python 3"
    },
    "language_info": {
      "name": "python"
    }
  },
  "cells": [
    {
      "cell_type": "code",
      "metadata": {
        "colab": {
          "base_uri": "https://localhost:8080/"
        },
        "id": "lYOZc9lQ7hJ2",
        "outputId": "9e5e6f38-1004-4f6b-ee6d-e1fc167eaf81"
      },
      "source": [
        "n = 5\n",
        "X = [95, 85, 80, 70, 60]\n",
        "Y = [85, 95, 70, 65, 70]\n",
        "b = (n*sum([X[i]*Y[i] for i in range(n)]) - sum(X)*sum(Y)) / (n*sum([X[i]**2 for i in range(n)]) - sum(X)**2)\n",
        "a = sum(Y)/n - b*(sum(X)/n)\n",
        "print(round(a+b*80, 3))\n"
      ],
      "execution_count": 13,
      "outputs": [
        {
          "output_type": "stream",
          "text": [
            "78.288\n"
          ],
          "name": "stdout"
        }
      ]
    }
  ]
}