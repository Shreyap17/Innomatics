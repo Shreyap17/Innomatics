{
  "nbformat": 4,
  "nbformat_minor": 0,
  "metadata": {
    "colab": {
      "name": "Univariant.ipynb",
      "provenance": [],
      "collapsed_sections": []
    },
    "kernelspec": {
      "display_name": "Python 3",
      "name": "python3"
    },
    "language_info": {
      "name": "python"
    }
  },
  "cells": [
    {
      "cell_type": "code",
      "metadata": {
        "id": "HrhtWHdd6yKQ"
      },
      "source": [
        "import numpy as np\n",
        "import pandas as pd\n",
        "import matplotlib.pyplot as plt\n",
        "import xlrd\n",
        " "
      ],
      "execution_count": 1,
      "outputs": []
    },
    {
      "cell_type": "code",
      "metadata": {
        "colab": {
          "base_uri": "https://localhost:8080/",
          "height": 394
        },
        "id": "XatGZaGJ7L6T",
        "outputId": "6c5ede3f-e562-4b7a-dbcc-67077a2d2a19"
      },
      "source": [
        "excel_file = 'aspiring_minds_employability_outcomes_2015.xlsx'\n",
        "df = pd.read_excel(excel_file)\n",
        "df.head()"
      ],
      "execution_count": 2,
      "outputs": [
        {
          "output_type": "execute_result",
          "data": {
            "text/html": [
              "<div>\n",
              "<style scoped>\n",
              "    .dataframe tbody tr th:only-of-type {\n",
              "        vertical-align: middle;\n",
              "    }\n",
              "\n",
              "    .dataframe tbody tr th {\n",
              "        vertical-align: top;\n",
              "    }\n",
              "\n",
              "    .dataframe thead th {\n",
              "        text-align: right;\n",
              "    }\n",
              "</style>\n",
              "<table border=\"1\" class=\"dataframe\">\n",
              "  <thead>\n",
              "    <tr style=\"text-align: right;\">\n",
              "      <th></th>\n",
              "      <th>Unnamed: 0</th>\n",
              "      <th>ID</th>\n",
              "      <th>Salary</th>\n",
              "      <th>DOJ</th>\n",
              "      <th>DOL</th>\n",
              "      <th>Designation</th>\n",
              "      <th>JobCity</th>\n",
              "      <th>Gender</th>\n",
              "      <th>DOB</th>\n",
              "      <th>10percentage</th>\n",
              "      <th>10board</th>\n",
              "      <th>12graduation</th>\n",
              "      <th>12percentage</th>\n",
              "      <th>12board</th>\n",
              "      <th>CollegeID</th>\n",
              "      <th>CollegeTier</th>\n",
              "      <th>Degree</th>\n",
              "      <th>Specialization</th>\n",
              "      <th>collegeGPA</th>\n",
              "      <th>CollegeCityID</th>\n",
              "      <th>CollegeCityTier</th>\n",
              "      <th>CollegeState</th>\n",
              "      <th>GraduationYear</th>\n",
              "      <th>English</th>\n",
              "      <th>Logical</th>\n",
              "      <th>Quant</th>\n",
              "      <th>Domain</th>\n",
              "      <th>ComputerProgramming</th>\n",
              "      <th>ElectronicsAndSemicon</th>\n",
              "      <th>ComputerScience</th>\n",
              "      <th>MechanicalEngg</th>\n",
              "      <th>ElectricalEngg</th>\n",
              "      <th>TelecomEngg</th>\n",
              "      <th>CivilEngg</th>\n",
              "      <th>conscientiousness</th>\n",
              "      <th>agreeableness</th>\n",
              "      <th>extraversion</th>\n",
              "      <th>nueroticism</th>\n",
              "      <th>openess_to_experience</th>\n",
              "    </tr>\n",
              "  </thead>\n",
              "  <tbody>\n",
              "    <tr>\n",
              "      <th>0</th>\n",
              "      <td>train</td>\n",
              "      <td>203097</td>\n",
              "      <td>420000</td>\n",
              "      <td>2012-06-01</td>\n",
              "      <td>present</td>\n",
              "      <td>senior quality engineer</td>\n",
              "      <td>Bangalore</td>\n",
              "      <td>f</td>\n",
              "      <td>1990-02-19</td>\n",
              "      <td>84.3</td>\n",
              "      <td>board ofsecondary education,ap</td>\n",
              "      <td>2007</td>\n",
              "      <td>95.8</td>\n",
              "      <td>board of intermediate education,ap</td>\n",
              "      <td>1141</td>\n",
              "      <td>2</td>\n",
              "      <td>B.Tech/B.E.</td>\n",
              "      <td>computer engineering</td>\n",
              "      <td>78.00</td>\n",
              "      <td>1141</td>\n",
              "      <td>0</td>\n",
              "      <td>Andhra Pradesh</td>\n",
              "      <td>2011</td>\n",
              "      <td>515</td>\n",
              "      <td>585</td>\n",
              "      <td>525</td>\n",
              "      <td>0.635979</td>\n",
              "      <td>445</td>\n",
              "      <td>-1</td>\n",
              "      <td>-1</td>\n",
              "      <td>-1</td>\n",
              "      <td>-1</td>\n",
              "      <td>-1</td>\n",
              "      <td>-1</td>\n",
              "      <td>0.9737</td>\n",
              "      <td>0.8128</td>\n",
              "      <td>0.5269</td>\n",
              "      <td>1.35490</td>\n",
              "      <td>-0.4455</td>\n",
              "    </tr>\n",
              "    <tr>\n",
              "      <th>1</th>\n",
              "      <td>train</td>\n",
              "      <td>579905</td>\n",
              "      <td>500000</td>\n",
              "      <td>2013-09-01</td>\n",
              "      <td>present</td>\n",
              "      <td>assistant manager</td>\n",
              "      <td>Indore</td>\n",
              "      <td>m</td>\n",
              "      <td>1989-10-04</td>\n",
              "      <td>85.4</td>\n",
              "      <td>cbse</td>\n",
              "      <td>2007</td>\n",
              "      <td>85.0</td>\n",
              "      <td>cbse</td>\n",
              "      <td>5807</td>\n",
              "      <td>2</td>\n",
              "      <td>B.Tech/B.E.</td>\n",
              "      <td>electronics and communication engineering</td>\n",
              "      <td>70.06</td>\n",
              "      <td>5807</td>\n",
              "      <td>0</td>\n",
              "      <td>Madhya Pradesh</td>\n",
              "      <td>2012</td>\n",
              "      <td>695</td>\n",
              "      <td>610</td>\n",
              "      <td>780</td>\n",
              "      <td>0.960603</td>\n",
              "      <td>-1</td>\n",
              "      <td>466</td>\n",
              "      <td>-1</td>\n",
              "      <td>-1</td>\n",
              "      <td>-1</td>\n",
              "      <td>-1</td>\n",
              "      <td>-1</td>\n",
              "      <td>-0.7335</td>\n",
              "      <td>0.3789</td>\n",
              "      <td>1.2396</td>\n",
              "      <td>-0.10760</td>\n",
              "      <td>0.8637</td>\n",
              "    </tr>\n",
              "    <tr>\n",
              "      <th>2</th>\n",
              "      <td>train</td>\n",
              "      <td>810601</td>\n",
              "      <td>325000</td>\n",
              "      <td>2014-06-01</td>\n",
              "      <td>present</td>\n",
              "      <td>systems engineer</td>\n",
              "      <td>Chennai</td>\n",
              "      <td>f</td>\n",
              "      <td>1992-08-03</td>\n",
              "      <td>85.0</td>\n",
              "      <td>cbse</td>\n",
              "      <td>2010</td>\n",
              "      <td>68.2</td>\n",
              "      <td>cbse</td>\n",
              "      <td>64</td>\n",
              "      <td>2</td>\n",
              "      <td>B.Tech/B.E.</td>\n",
              "      <td>information technology</td>\n",
              "      <td>70.00</td>\n",
              "      <td>64</td>\n",
              "      <td>0</td>\n",
              "      <td>Uttar Pradesh</td>\n",
              "      <td>2014</td>\n",
              "      <td>615</td>\n",
              "      <td>545</td>\n",
              "      <td>370</td>\n",
              "      <td>0.450877</td>\n",
              "      <td>395</td>\n",
              "      <td>-1</td>\n",
              "      <td>-1</td>\n",
              "      <td>-1</td>\n",
              "      <td>-1</td>\n",
              "      <td>-1</td>\n",
              "      <td>-1</td>\n",
              "      <td>0.2718</td>\n",
              "      <td>1.7109</td>\n",
              "      <td>0.1637</td>\n",
              "      <td>-0.86820</td>\n",
              "      <td>0.6721</td>\n",
              "    </tr>\n",
              "    <tr>\n",
              "      <th>3</th>\n",
              "      <td>train</td>\n",
              "      <td>267447</td>\n",
              "      <td>1100000</td>\n",
              "      <td>2011-07-01</td>\n",
              "      <td>present</td>\n",
              "      <td>senior software engineer</td>\n",
              "      <td>Gurgaon</td>\n",
              "      <td>m</td>\n",
              "      <td>1989-12-05</td>\n",
              "      <td>85.6</td>\n",
              "      <td>cbse</td>\n",
              "      <td>2007</td>\n",
              "      <td>83.6</td>\n",
              "      <td>cbse</td>\n",
              "      <td>6920</td>\n",
              "      <td>1</td>\n",
              "      <td>B.Tech/B.E.</td>\n",
              "      <td>computer engineering</td>\n",
              "      <td>74.64</td>\n",
              "      <td>6920</td>\n",
              "      <td>1</td>\n",
              "      <td>Delhi</td>\n",
              "      <td>2011</td>\n",
              "      <td>635</td>\n",
              "      <td>585</td>\n",
              "      <td>625</td>\n",
              "      <td>0.974396</td>\n",
              "      <td>615</td>\n",
              "      <td>-1</td>\n",
              "      <td>-1</td>\n",
              "      <td>-1</td>\n",
              "      <td>-1</td>\n",
              "      <td>-1</td>\n",
              "      <td>-1</td>\n",
              "      <td>0.0464</td>\n",
              "      <td>0.3448</td>\n",
              "      <td>-0.3440</td>\n",
              "      <td>-0.40780</td>\n",
              "      <td>-0.9194</td>\n",
              "    </tr>\n",
              "    <tr>\n",
              "      <th>4</th>\n",
              "      <td>train</td>\n",
              "      <td>343523</td>\n",
              "      <td>200000</td>\n",
              "      <td>2014-03-01</td>\n",
              "      <td>2015-03-01 00:00:00</td>\n",
              "      <td>get</td>\n",
              "      <td>Manesar</td>\n",
              "      <td>m</td>\n",
              "      <td>1991-02-27</td>\n",
              "      <td>78.0</td>\n",
              "      <td>cbse</td>\n",
              "      <td>2008</td>\n",
              "      <td>76.8</td>\n",
              "      <td>cbse</td>\n",
              "      <td>11368</td>\n",
              "      <td>2</td>\n",
              "      <td>B.Tech/B.E.</td>\n",
              "      <td>electronics and communication engineering</td>\n",
              "      <td>73.90</td>\n",
              "      <td>11368</td>\n",
              "      <td>0</td>\n",
              "      <td>Uttar Pradesh</td>\n",
              "      <td>2012</td>\n",
              "      <td>545</td>\n",
              "      <td>625</td>\n",
              "      <td>465</td>\n",
              "      <td>0.124502</td>\n",
              "      <td>-1</td>\n",
              "      <td>233</td>\n",
              "      <td>-1</td>\n",
              "      <td>-1</td>\n",
              "      <td>-1</td>\n",
              "      <td>-1</td>\n",
              "      <td>-1</td>\n",
              "      <td>-0.8810</td>\n",
              "      <td>-0.2793</td>\n",
              "      <td>-1.0697</td>\n",
              "      <td>0.09163</td>\n",
              "      <td>-0.1295</td>\n",
              "    </tr>\n",
              "  </tbody>\n",
              "</table>\n",
              "</div>"
            ],
            "text/plain": [
              "  Unnamed: 0      ID   Salary  ... extraversion nueroticism openess_to_experience\n",
              "0      train  203097   420000  ...       0.5269     1.35490               -0.4455\n",
              "1      train  579905   500000  ...       1.2396    -0.10760                0.8637\n",
              "2      train  810601   325000  ...       0.1637    -0.86820                0.6721\n",
              "3      train  267447  1100000  ...      -0.3440    -0.40780               -0.9194\n",
              "4      train  343523   200000  ...      -1.0697     0.09163               -0.1295\n",
              "\n",
              "[5 rows x 39 columns]"
            ]
          },
          "metadata": {
            "tags": []
          },
          "execution_count": 2
        }
      ]
    },
    {
      "cell_type": "code",
      "metadata": {
        "colab": {
          "base_uri": "https://localhost:8080/"
        },
        "id": "xu_ObL7g8-uO",
        "outputId": "3fa11eb5-622c-4489-9271-7ff23fe645f1"
      },
      "source": [
        "df.shape"
      ],
      "execution_count": 3,
      "outputs": [
        {
          "output_type": "execute_result",
          "data": {
            "text/plain": [
              "(3998, 39)"
            ]
          },
          "metadata": {
            "tags": []
          },
          "execution_count": 3
        }
      ]
    },
    {
      "cell_type": "code",
      "metadata": {
        "colab": {
          "base_uri": "https://localhost:8080/",
          "height": 317
        },
        "id": "1OpvUvOZ9Ber",
        "outputId": "d8594d78-c4ed-4e29-9ea6-1be8c28e0cb4"
      },
      "source": [
        "df.describe()"
      ],
      "execution_count": 4,
      "outputs": [
        {
          "output_type": "execute_result",
          "data": {
            "text/html": [
              "<div>\n",
              "<style scoped>\n",
              "    .dataframe tbody tr th:only-of-type {\n",
              "        vertical-align: middle;\n",
              "    }\n",
              "\n",
              "    .dataframe tbody tr th {\n",
              "        vertical-align: top;\n",
              "    }\n",
              "\n",
              "    .dataframe thead th {\n",
              "        text-align: right;\n",
              "    }\n",
              "</style>\n",
              "<table border=\"1\" class=\"dataframe\">\n",
              "  <thead>\n",
              "    <tr style=\"text-align: right;\">\n",
              "      <th></th>\n",
              "      <th>ID</th>\n",
              "      <th>Salary</th>\n",
              "      <th>10percentage</th>\n",
              "      <th>12graduation</th>\n",
              "      <th>12percentage</th>\n",
              "      <th>CollegeID</th>\n",
              "      <th>CollegeTier</th>\n",
              "      <th>collegeGPA</th>\n",
              "      <th>CollegeCityID</th>\n",
              "      <th>CollegeCityTier</th>\n",
              "      <th>GraduationYear</th>\n",
              "      <th>English</th>\n",
              "      <th>Logical</th>\n",
              "      <th>Quant</th>\n",
              "      <th>Domain</th>\n",
              "      <th>ComputerProgramming</th>\n",
              "      <th>ElectronicsAndSemicon</th>\n",
              "      <th>ComputerScience</th>\n",
              "      <th>MechanicalEngg</th>\n",
              "      <th>ElectricalEngg</th>\n",
              "      <th>TelecomEngg</th>\n",
              "      <th>CivilEngg</th>\n",
              "      <th>conscientiousness</th>\n",
              "      <th>agreeableness</th>\n",
              "      <th>extraversion</th>\n",
              "      <th>nueroticism</th>\n",
              "      <th>openess_to_experience</th>\n",
              "    </tr>\n",
              "  </thead>\n",
              "  <tbody>\n",
              "    <tr>\n",
              "      <th>count</th>\n",
              "      <td>3.998000e+03</td>\n",
              "      <td>3.998000e+03</td>\n",
              "      <td>3998.000000</td>\n",
              "      <td>3998.000000</td>\n",
              "      <td>3998.000000</td>\n",
              "      <td>3998.000000</td>\n",
              "      <td>3998.000000</td>\n",
              "      <td>3998.000000</td>\n",
              "      <td>3998.000000</td>\n",
              "      <td>3998.000000</td>\n",
              "      <td>3998.000000</td>\n",
              "      <td>3998.000000</td>\n",
              "      <td>3998.000000</td>\n",
              "      <td>3998.000000</td>\n",
              "      <td>3998.000000</td>\n",
              "      <td>3998.000000</td>\n",
              "      <td>3998.000000</td>\n",
              "      <td>3998.000000</td>\n",
              "      <td>3998.000000</td>\n",
              "      <td>3998.000000</td>\n",
              "      <td>3998.000000</td>\n",
              "      <td>3998.000000</td>\n",
              "      <td>3998.000000</td>\n",
              "      <td>3998.000000</td>\n",
              "      <td>3998.000000</td>\n",
              "      <td>3998.000000</td>\n",
              "      <td>3998.000000</td>\n",
              "    </tr>\n",
              "    <tr>\n",
              "      <th>mean</th>\n",
              "      <td>6.637945e+05</td>\n",
              "      <td>3.076998e+05</td>\n",
              "      <td>77.925443</td>\n",
              "      <td>2008.087544</td>\n",
              "      <td>74.466366</td>\n",
              "      <td>5156.851426</td>\n",
              "      <td>1.925713</td>\n",
              "      <td>71.486171</td>\n",
              "      <td>5156.851426</td>\n",
              "      <td>0.300400</td>\n",
              "      <td>2012.105803</td>\n",
              "      <td>501.649075</td>\n",
              "      <td>501.598799</td>\n",
              "      <td>513.378189</td>\n",
              "      <td>0.510490</td>\n",
              "      <td>353.102801</td>\n",
              "      <td>95.328414</td>\n",
              "      <td>90.742371</td>\n",
              "      <td>22.974737</td>\n",
              "      <td>16.478739</td>\n",
              "      <td>31.851176</td>\n",
              "      <td>2.683842</td>\n",
              "      <td>-0.037831</td>\n",
              "      <td>0.146496</td>\n",
              "      <td>0.002763</td>\n",
              "      <td>-0.169033</td>\n",
              "      <td>-0.138110</td>\n",
              "    </tr>\n",
              "    <tr>\n",
              "      <th>std</th>\n",
              "      <td>3.632182e+05</td>\n",
              "      <td>2.127375e+05</td>\n",
              "      <td>9.850162</td>\n",
              "      <td>1.653599</td>\n",
              "      <td>10.999933</td>\n",
              "      <td>4802.261482</td>\n",
              "      <td>0.262270</td>\n",
              "      <td>8.167338</td>\n",
              "      <td>4802.261482</td>\n",
              "      <td>0.458489</td>\n",
              "      <td>31.857271</td>\n",
              "      <td>104.940021</td>\n",
              "      <td>86.783297</td>\n",
              "      <td>122.302332</td>\n",
              "      <td>0.468671</td>\n",
              "      <td>205.355519</td>\n",
              "      <td>158.241218</td>\n",
              "      <td>175.273083</td>\n",
              "      <td>98.123311</td>\n",
              "      <td>87.585634</td>\n",
              "      <td>104.852845</td>\n",
              "      <td>36.658505</td>\n",
              "      <td>1.028666</td>\n",
              "      <td>0.941782</td>\n",
              "      <td>0.951471</td>\n",
              "      <td>1.007580</td>\n",
              "      <td>1.008075</td>\n",
              "    </tr>\n",
              "    <tr>\n",
              "      <th>min</th>\n",
              "      <td>1.124400e+04</td>\n",
              "      <td>3.500000e+04</td>\n",
              "      <td>43.000000</td>\n",
              "      <td>1995.000000</td>\n",
              "      <td>40.000000</td>\n",
              "      <td>2.000000</td>\n",
              "      <td>1.000000</td>\n",
              "      <td>6.450000</td>\n",
              "      <td>2.000000</td>\n",
              "      <td>0.000000</td>\n",
              "      <td>0.000000</td>\n",
              "      <td>180.000000</td>\n",
              "      <td>195.000000</td>\n",
              "      <td>120.000000</td>\n",
              "      <td>-1.000000</td>\n",
              "      <td>-1.000000</td>\n",
              "      <td>-1.000000</td>\n",
              "      <td>-1.000000</td>\n",
              "      <td>-1.000000</td>\n",
              "      <td>-1.000000</td>\n",
              "      <td>-1.000000</td>\n",
              "      <td>-1.000000</td>\n",
              "      <td>-4.126700</td>\n",
              "      <td>-5.781600</td>\n",
              "      <td>-4.600900</td>\n",
              "      <td>-2.643000</td>\n",
              "      <td>-7.375700</td>\n",
              "    </tr>\n",
              "    <tr>\n",
              "      <th>25%</th>\n",
              "      <td>3.342842e+05</td>\n",
              "      <td>1.800000e+05</td>\n",
              "      <td>71.680000</td>\n",
              "      <td>2007.000000</td>\n",
              "      <td>66.000000</td>\n",
              "      <td>494.000000</td>\n",
              "      <td>2.000000</td>\n",
              "      <td>66.407500</td>\n",
              "      <td>494.000000</td>\n",
              "      <td>0.000000</td>\n",
              "      <td>2012.000000</td>\n",
              "      <td>425.000000</td>\n",
              "      <td>445.000000</td>\n",
              "      <td>430.000000</td>\n",
              "      <td>0.342315</td>\n",
              "      <td>295.000000</td>\n",
              "      <td>-1.000000</td>\n",
              "      <td>-1.000000</td>\n",
              "      <td>-1.000000</td>\n",
              "      <td>-1.000000</td>\n",
              "      <td>-1.000000</td>\n",
              "      <td>-1.000000</td>\n",
              "      <td>-0.713525</td>\n",
              "      <td>-0.287100</td>\n",
              "      <td>-0.604800</td>\n",
              "      <td>-0.868200</td>\n",
              "      <td>-0.669200</td>\n",
              "    </tr>\n",
              "    <tr>\n",
              "      <th>50%</th>\n",
              "      <td>6.396000e+05</td>\n",
              "      <td>3.000000e+05</td>\n",
              "      <td>79.150000</td>\n",
              "      <td>2008.000000</td>\n",
              "      <td>74.400000</td>\n",
              "      <td>3879.000000</td>\n",
              "      <td>2.000000</td>\n",
              "      <td>71.720000</td>\n",
              "      <td>3879.000000</td>\n",
              "      <td>0.000000</td>\n",
              "      <td>2013.000000</td>\n",
              "      <td>500.000000</td>\n",
              "      <td>505.000000</td>\n",
              "      <td>515.000000</td>\n",
              "      <td>0.622643</td>\n",
              "      <td>415.000000</td>\n",
              "      <td>-1.000000</td>\n",
              "      <td>-1.000000</td>\n",
              "      <td>-1.000000</td>\n",
              "      <td>-1.000000</td>\n",
              "      <td>-1.000000</td>\n",
              "      <td>-1.000000</td>\n",
              "      <td>0.046400</td>\n",
              "      <td>0.212400</td>\n",
              "      <td>0.091400</td>\n",
              "      <td>-0.234400</td>\n",
              "      <td>-0.094300</td>\n",
              "    </tr>\n",
              "    <tr>\n",
              "      <th>75%</th>\n",
              "      <td>9.904800e+05</td>\n",
              "      <td>3.700000e+05</td>\n",
              "      <td>85.670000</td>\n",
              "      <td>2009.000000</td>\n",
              "      <td>82.600000</td>\n",
              "      <td>8818.000000</td>\n",
              "      <td>2.000000</td>\n",
              "      <td>76.327500</td>\n",
              "      <td>8818.000000</td>\n",
              "      <td>1.000000</td>\n",
              "      <td>2014.000000</td>\n",
              "      <td>570.000000</td>\n",
              "      <td>565.000000</td>\n",
              "      <td>595.000000</td>\n",
              "      <td>0.842248</td>\n",
              "      <td>495.000000</td>\n",
              "      <td>233.000000</td>\n",
              "      <td>-1.000000</td>\n",
              "      <td>-1.000000</td>\n",
              "      <td>-1.000000</td>\n",
              "      <td>-1.000000</td>\n",
              "      <td>-1.000000</td>\n",
              "      <td>0.702700</td>\n",
              "      <td>0.812800</td>\n",
              "      <td>0.672000</td>\n",
              "      <td>0.526200</td>\n",
              "      <td>0.502400</td>\n",
              "    </tr>\n",
              "    <tr>\n",
              "      <th>max</th>\n",
              "      <td>1.298275e+06</td>\n",
              "      <td>4.000000e+06</td>\n",
              "      <td>97.760000</td>\n",
              "      <td>2013.000000</td>\n",
              "      <td>98.700000</td>\n",
              "      <td>18409.000000</td>\n",
              "      <td>2.000000</td>\n",
              "      <td>99.930000</td>\n",
              "      <td>18409.000000</td>\n",
              "      <td>1.000000</td>\n",
              "      <td>2017.000000</td>\n",
              "      <td>875.000000</td>\n",
              "      <td>795.000000</td>\n",
              "      <td>900.000000</td>\n",
              "      <td>0.999910</td>\n",
              "      <td>840.000000</td>\n",
              "      <td>612.000000</td>\n",
              "      <td>715.000000</td>\n",
              "      <td>623.000000</td>\n",
              "      <td>676.000000</td>\n",
              "      <td>548.000000</td>\n",
              "      <td>516.000000</td>\n",
              "      <td>1.995300</td>\n",
              "      <td>1.904800</td>\n",
              "      <td>2.535400</td>\n",
              "      <td>3.352500</td>\n",
              "      <td>1.822400</td>\n",
              "    </tr>\n",
              "  </tbody>\n",
              "</table>\n",
              "</div>"
            ],
            "text/plain": [
              "                 ID        Salary  ...  nueroticism  openess_to_experience\n",
              "count  3.998000e+03  3.998000e+03  ...  3998.000000            3998.000000\n",
              "mean   6.637945e+05  3.076998e+05  ...    -0.169033              -0.138110\n",
              "std    3.632182e+05  2.127375e+05  ...     1.007580               1.008075\n",
              "min    1.124400e+04  3.500000e+04  ...    -2.643000              -7.375700\n",
              "25%    3.342842e+05  1.800000e+05  ...    -0.868200              -0.669200\n",
              "50%    6.396000e+05  3.000000e+05  ...    -0.234400              -0.094300\n",
              "75%    9.904800e+05  3.700000e+05  ...     0.526200               0.502400\n",
              "max    1.298275e+06  4.000000e+06  ...     3.352500               1.822400\n",
              "\n",
              "[8 rows x 27 columns]"
            ]
          },
          "metadata": {
            "tags": []
          },
          "execution_count": 4
        }
      ]
    },
    {
      "cell_type": "code",
      "metadata": {
        "colab": {
          "base_uri": "https://localhost:8080/",
          "height": 267
        },
        "id": "NC4VyPn7Iz0a",
        "outputId": "2c6f1165-5728-481c-d73e-9046f2d9f481"
      },
      "source": [
        "plt.plot(df['English'])\n",
        "plt.show()"
      ],
      "execution_count": 5,
      "outputs": [
        {
          "output_type": "display_data",
          "data": {
            "image/png": "[encoded data removed]",
            "text/plain": [
              "<Figure size 432x288 with 1 Axes>"
            ]
          },
          "metadata": {
            "tags": [],
            "needs_background": "light"
          }
        }
      ]
    },
    {
      "cell_type": "code",
      "metadata": {
        "colab": {
          "base_uri": "https://localhost:8080/",
          "height": 276
        },
        "id": "Yi-W5p7D-UlR",
        "outputId": "84209c1d-8967-482d-9a66-cdedbf8e61c7"
      },
      "source": [
        "plt.boxplot(df['ID'])\n",
        "plt.show()"
      ],
      "execution_count": 6,
      "outputs": [
        {
          "output_type": "display_data",
          "data": {
            "image/png": "[encoded data removed]",
            "text/plain": [
              "<Figure size 432x288 with 1 Axes>"
            ]
          },
          "metadata": {
            "tags": [],
            "needs_background": "light"
          }
        }
      ]
    },
    {
      "cell_type": "code",
      "metadata": {
        "colab": {
          "base_uri": "https://localhost:8080/",
          "height": 267
        },
        "id": "-GBwKBwdHEsr",
        "outputId": "cc9fe819-211e-4a1d-9adf-e70a6ce50eb3"
      },
      "source": [
        "plt.boxplot(df['English'])\n",
        "plt.show()"
      ],
      "execution_count": 7,
      "outputs": [
        {
          "output_type": "display_data",
          "data": {
            "image/png": "[encoded data removed]",
            "text/plain": [
              "<Figure size 432x288 with 1 Axes>"
            ]
          },
          "metadata": {
            "tags": [],
            "needs_background": "light"
          }
        }
      ]
    },
    {
      "cell_type": "code",
      "metadata": {
        "colab": {
          "base_uri": "https://localhost:8080/",
          "height": 265
        },
        "id": "bJBU_cJ8OW4j",
        "outputId": "93b3ebe5-7daf-47c4-a752-efe54f81783d"
      },
      "source": [
        "plt.boxplot(df['ComputerProgramming'])\n",
        "plt.show()"
      ],
      "execution_count": 8,
      "outputs": [
        {
          "output_type": "display_data",
          "data": {
            "image/png": "[encoded data removed]",
            "text/plain": [
              "<Figure size 432x288 with 1 Axes>"
            ]
          },
          "metadata": {
            "tags": [],
            "needs_background": "light"
          }
        }
      ]
    },
    {
      "cell_type": "code",
      "metadata": {
        "colab": {
          "base_uri": "https://localhost:8080/",
          "height": 265
        },
        "id": "gJbEJr_fHaSZ",
        "outputId": "3c0fd60a-250e-4f7d-f434-414b71499d83"
      },
      "source": [
        "plt.hist(df['English'])\n",
        "plt.show()"
      ],
      "execution_count": 9,
      "outputs": [
        {
          "output_type": "display_data",
          "data": {
            "image/png": "[encoded data removed]",
            "text/plain": [
              "<Figure size 432x288 with 1 Axes>"
            ]
          },
          "metadata": {
            "tags": [],
            "needs_background": "light"
          }
        }
      ]
    },
    {
      "cell_type": "code",
      "metadata": {
        "id": "OEjewt4yH0Wz"
      },
      "source": [
        "def remove_outlier(col):\n",
        "  sorted(col)\n",
        "  Q1,Q3=col.quantile([0.25,0.75])\n",
        "  IQR = Q3-Q1\n",
        "  lower = Q1-(1.5*IQR)\n",
        "  upper = Q3+(1.5*IQR)\n",
        "  return lower,upper"
      ],
      "execution_count": 10,
      "outputs": []
    },
    {
      "cell_type": "code",
      "metadata": {
        "id": "-DoG0wqvB4r9"
      },
      "source": [
        "L,U = remove_outlier(df['English'])\n",
        "df['English'] = np.where(df['English']>U,U,df['English'])\n",
        "df['English'] = np.where(df['English']<L,L,df['English'])"
      ],
      "execution_count": 11,
      "outputs": []
    },
    {
      "cell_type": "code",
      "metadata": {
        "colab": {
          "base_uri": "https://localhost:8080/",
          "height": 265
        },
        "id": "cyo_I9rSvLTX",
        "outputId": "7a93bb64-1bff-4570-82f2-226cfdd57f85"
      },
      "source": [
        "df.boxplot(column=['English'])\n",
        "plt.show()"
      ],
      "execution_count": 12,
      "outputs": [
        {
          "output_type": "display_data",
          "data": {
            "image/png": "[encoded data removed]",
            "text/plain": [
              "<Figure size 432x288 with 1 Axes>"
            ]
          },
          "metadata": {
            "tags": [],
            "needs_background": "light"
          }
        }
      ]
    }
  ]
}